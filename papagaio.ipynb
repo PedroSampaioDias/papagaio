{
 "cells": [
  {
   "cell_type": "code",
   "execution_count": 21,
   "id": "e2d30a05",
   "metadata": {},
   "outputs": [],
   "source": [
    "#Introdução:"
   ]
  },
  {
   "cell_type": "markdown",
   "id": "44349d29",
   "metadata": {},
   "source": [
    "## Imports\n",
    "\n",
    "Esta célula faz o import das bibliotecas que serão utilizadas no notebook.\n"
   ]
  },
  {
   "cell_type": "code",
   "execution_count": 22,
   "id": "d1dcf396",
   "metadata": {},
   "outputs": [],
   "source": [
    "import gdown\n",
    "import zipfile\n",
    "import os\n",
    "import shutil"
   ]
  },
  {
   "cell_type": "markdown",
   "id": "12859ea1",
   "metadata": {},
   "source": [
    "## Download e preparação do dataset\n",
    "\n",
    "Nesta etapa realizamos o processo completo de obtenção e organização do conjunto de dados.  \n",
    "O arquivo compactado é baixado do Google Drive por meio da biblioteca **gdown**, armazenado em uma pasta de arquivos **compactados** e, em seguida, descompactado para a pasta **dataset_original**. Após a extração, diretórios e arquivos temporários do sistema (como `__MACOSX` e `.DS_Store`) são removidos, garantindo uma estrutura limpa e padronizada.  \n",
    "\n",
    "Ao final, temos um dataset pronto para uso, organizado em `datasets/` e pronto para os próximos passos.\n"
   ]
  },
  {
   "cell_type": "code",
   "execution_count": null,
   "id": "50265f17",
   "metadata": {},
   "outputs": [
    {
     "name": "stdout",
     "output_type": "stream",
     "text": [
      "📥 Baixando dataset...\n"
     ]
    },
    {
     "name": "stderr",
     "output_type": "stream",
     "text": [
      "Downloading...\n",
      "From (original): https://drive.google.com/uc?id=19rWCGW38ht8TLY1ad7gba46mP5FCIZul\n",
      "From (redirected): https://drive.google.com/uc?id=19rWCGW38ht8TLY1ad7gba46mP5FCIZul&confirm=t&uuid=021dce99-f164-4c75-a7bd-7fd0a68300fb\n",
      "To: /home/pedro/papagaio/dataset_original.zip\n",
      "100%|██████████| 277M/277M [00:04<00:00, 61.5MB/s] \n"
     ]
    },
    {
     "name": "stdout",
     "output_type": "stream",
     "text": [
      "📂 Extraindo dataset...\n",
      "🧹 Removendo arquivos/diretórios indesejados...\n",
      "✅ Dataset pronto em: /home/pedro/papagaio/datasets\n"
     ]
    }
   ],
   "source": [
    "file_id = \"19rWCGW38ht8TLY1ad7gba46mP5FCIZul\"\n",
    "url = f\"https://drive.google.com/uc?id={file_id}\"\n",
    "output = \"dataset_original.zip\"\n",
    "\n",
    "base_dir = \"datasets\"\n",
    "compact_dir = os.path.join(base_dir, \"compactados\")\n",
    "extract_dir = os.path.join(base_dir, \"dataset_original\")\n",
    "\n",
    "os.makedirs(compact_dir, exist_ok=True)\n",
    "os.makedirs(extract_dir, exist_ok=True)\n",
    "\n",
    "print(\"📥 Baixando dataset...\")\n",
    "gdown.download(url, output, quiet=False)\n",
    "\n",
    "dest_zip = os.path.join(compact_dir, output)\n",
    "if os.path.exists(dest_zip):\n",
    "    os.remove(dest_zip)\n",
    "shutil.move(output, dest_zip)\n",
    "\n",
    "print(\"📂 Extraindo dataset...\")\n",
    "with zipfile.ZipFile(dest_zip, 'r') as zip_ref:\n",
    "    zip_ref.extractall(extract_dir)\n",
    "\n",
    "print(\"🧹 Removendo arquivos/diretórios indesejados...\")\n",
    "for root, dirs, files in os.walk(extract_dir, topdown=True):\n",
    "    if \"__MACOSX\" in dirs:\n",
    "        shutil.rmtree(os.path.join(root, \"__MACOSX\"), ignore_errors=True)\n",
    "    for file in files:\n",
    "        if file == \".DS_Store\":\n",
    "            try:\n",
    "                os.remove(os.path.join(root, file))\n",
    "            except FileNotFoundError:\n",
    "                pass\n",
    "\n",
    "print(\"✅ Dataset pronto em:\", os.path.abspath(base_dir))"
   ]
  }
 ],
 "metadata": {
  "kernelspec": {
   "display_name": "Python 3",
   "language": "python",
   "name": "python3"
  },
  "language_info": {
   "name": "python",
   "version": "3.x"
  }
 },
 "nbformat": 4,
 "nbformat_minor": 5
}
