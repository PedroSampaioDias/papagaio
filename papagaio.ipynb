{
  "cells": [
    {
      "cell_type": "markdown",
      "source": [
        "# 1. Autores"
      ],
      "metadata": {
        "id": "uIDTVZhVFfBR"
      },
      "id": "uIDTVZhVFfBR"
    },
    {
      "cell_type": "markdown",
      "id": "9mCjg2b-Iq8S",
      "metadata": {
        "id": "9mCjg2b-Iq8S"
      },
      "source": [
        "<div style=\"display: flex; justify-content: center;\">\n",
        "  <table style=\"margin: auto; border-spacing: 60px;\">\n",
        "    <tr>\n",
        "      <td align=\"center\" style=\"padding: 20px;\">\n",
        "        <a href=\"https://github.com/PedroSampaioDias\">\n",
        "          <img style=\"border-radius: 50%;\" src=\"https://avatars.githubusercontent.com/u/90795603?v=4\" width=\"150px;\"/>\n",
        "          <h5 class=\"text-center\">Pedro Sampaio - 211043745</h5>\n",
        "        </a>\n",
        "      </td>\n",
        "      <td align=\"center\" style=\"padding: 20px;\">\n",
        "        <a href=\"https://github.com/raulbreno\">\n",
        "          <img style=\"border-radius: 50%;\" src=\"https://avatars.githubusercontent.com/u/72105072?v=4\" width=\"150px;\"/>\n",
        "          <h5 class=\"text-center\">Raul Breno - 200026810</h5>\n",
        "        </a>\n",
        "      </td>\n",
        "    </tr>\n",
        "  </table>\n",
        "</div>\n"
      ]
    },
    {
      "cell_type": "markdown",
      "id": "9rL3BcQdI1Bj",
      "metadata": {
        "id": "9rL3BcQdI1Bj"
      },
      "source": [
        "# 2. Abstract"
      ]
    },
    {
      "cell_type": "markdown",
      "id": "5tkaM_j4I6YM",
      "metadata": {
        "id": "5tkaM_j4I6YM"
      },
      "source": [
        "# 3. Keywords"
      ]
    },
    {
      "cell_type": "markdown",
      "source": [
        "# 4. Introdução"
      ],
      "metadata": {
        "id": "T_MHvmt6FmrP"
      },
      "id": "T_MHvmt6FmrP"
    },
    {
      "cell_type": "markdown",
      "id": "e2REoNLFAven",
      "metadata": {
        "id": "e2REoNLFAven"
      },
      "source": [
        "O cerrado brasileiro possui uma grande diversidade de aves. Algumas delas apresentam um desenvolvimento cerebral maior que outras, como é o caso das aves da família Psittacidae. Diversas aves dessa família são conhecidas como papagaios, araras e periquitos.bEssas aves possuem inteligência superior em comparação às demais, sendo capazes de imitar diferentes sons. Caracterizam-se por um bico alto e curvo, com a parte superior maior que a inferior, além de apresentarem plumagens muito coloridas. Embora sejam bastante bonitas, podem ser difíceis de diferenciar a olho nu por pessoas que não possuem certas especializações. Com o objetivo de facilitar esse processo, a presente rede convolucional tem como finalidade analisar e identificar a espécie da ave a partir de uma imagem.\n",
        "\n",
        "Para isso, será criada e treinada uma rede convolucional utilizando um conjunto de dados com mais de 3.000 imagens, obtidas a partir do site iNaturalist. O dataset possui diferentes quantidades de imagens para cada espécie e, a fim de equilibrar as classes, serão adicionadas novas imagens, além da aplicação de técnicas de data augmentation.\n",
        "\n",
        "As especies a serem utilizadas no treinamento serão:\n",
        "\n",
        "*   Amazona aestiva\n",
        "*   Amazona amazonica\n",
        "*   Anodorhynchus hyacinthinus\n",
        "*   Ara ararauna\n",
        "*   Ara chloropterus\n",
        "*   Ara macao\n",
        "*   Brotogeris chiriri\n",
        "*   Diopsittaca nobilis\n",
        "*   Eupsittula aurea\n",
        "*   Forpus xanthopterygius\n",
        "*   Orthopsittaca manilatus\n",
        "*   Primolius maracana\n",
        "*   Psittacara leucophthalmus\n",
        "*   Touit melanonotus\n",
        "\n",
        "Uma rede convolucional funciona a partir de três camadas principais: a camada convolucional, a camada de agrupamento e a camada totalmente conectada. A camada convolucional tem como objetivo dividir a imagem em regiões e aplicar filtros a partir de pesos aprendidos. A camada de agrupamento aplica um filtro sem pesos de treinamento na entrada, a fim de reduzir a quantidade de informações, mantendo apenas as mais relevantes. Por fim, a camada totalmente conectada realiza a classificação e retorna ao usuário a informação final.\n",
        "\n",
        "A fim de comparar a rede criada, também será realizado o transfer learning a partir de uma arquitetura já consolidada, seguido do fine-tuning. Dessa forma, o resultado final compreenderá três redes convolucionais. A arquitetura utilizada para criar a rede convolucional será a ResNet50; para o transfer learning será empregada a XXXX; e, para o fine-tuning, será aplicada a técnica XXXX."
      ]
    },
    {
      "cell_type": "markdown",
      "id": "DY281S4DJKU_",
      "metadata": {
        "id": "DY281S4DJKU_"
      },
      "source": [
        "# 5. Trabalhos Relacionados"
      ]
    },
    {
      "cell_type": "markdown",
      "source": [
        "Tang (2025) trás uma comparação entre diferentes redes convolucionais para a detecção de aves. Em seu trabalho são utilizados mais de 80.000 imagens de 525 espécies diferentes para o treinamento de três tipos de redes: a ResNet, MobileNet e VGG. Cada CNN foi comparada com suas diversas redes, variando o número de camadas convolucionais. Como resultado, Tang (2025) concluiu que a família da rede ResNet e MobileNet são as melhores para a classificação, tendo a ResNet uma qualidade progressiva de acordo com o número de camadas. A família da rede VGG apresentou dificuldade, principalmente com aves que possuíam características semelhantes. A família MobileNet trouxe resultados interessantes quando levando em consideração a eficiência computacional."
      ],
      "metadata": {
        "id": "TNO8AxEkF9Za"
      },
      "id": "TNO8AxEkF9Za"
    },
    {
      "cell_type": "markdown",
      "id": "mNe7hXgRH_Nd",
      "metadata": {
        "id": "mNe7hXgRH_Nd"
      },
      "source": [
        "# 6. Metodologia"
      ]
    },
    {
      "cell_type": "markdown",
      "id": "44349d29",
      "metadata": {
        "id": "44349d29"
      },
      "source": [
        "## 6.1 Imports\n",
        "\n",
        "Esta célula faz o import das bibliotecas que serão utilizadas no notebook.\n"
      ]
    },
    {
      "cell_type": "code",
      "execution_count": null,
      "id": "d1dcf396",
      "metadata": {
        "id": "d1dcf396"
      },
      "outputs": [],
      "source": [
        "import gdown\n",
        "import zipfile\n",
        "import os\n",
        "import shutil\n",
        "from pathlib import Path\n",
        "import pandas as pd\n",
        "import matplotlib.pyplot as plt\n",
        "import seaborn as sns\n",
        "from collections import Counter\n",
        "from PIL import Image\n",
        "import numpy as np\n",
        "from fractions import Fraction\n",
        "import random\n",
        "import shutil\n",
        "import cv2\n",
        "from albumentations import Compose, HorizontalFlip, VerticalFlip, Rotate, CoarseDropout"
      ]
    },
    {
      "cell_type": "markdown",
      "id": "12859ea1",
      "metadata": {
        "id": "12859ea1"
      },
      "source": [
        "## 6.2 Download do dataset original\n",
        "\n",
        "Nesta etapa realizamos o processo completo de obtenção e organização do conjunto de dados.  \n",
        "O arquivo compactado é baixado do Google Drive por meio da biblioteca **gdown**, armazenado em uma pasta de arquivos **compactados** e, em seguida, descompactado para a pasta **dataset_original**. Após a extração, diretórios e arquivos temporários do sistema (como `__MACOSX` e `.DS_Store`) são removidos, garantindo uma estrutura limpa e padronizada.  \n",
        "\n",
        "Ao final, temos um dataset pronto para uso, organizado em `datasets/` e pronto para os próximos passos.\n"
      ]
    },
    {
      "cell_type": "code",
      "execution_count": null,
      "id": "50265f17",
      "metadata": {
        "colab": {
          "base_uri": "https://localhost:8080/",
          "height": 651
        },
        "id": "50265f17",
        "outputId": "7a54136b-cf72-44ac-f479-aac9a999c69b"
      },
      "outputs": [
        {
          "output_type": "stream",
          "name": "stdout",
          "text": [
            "📥 Baixando...\n"
          ]
        },
        {
          "output_type": "error",
          "ename": "FileURLRetrievalError",
          "evalue": "Failed to retrieve file url:\n\n\tCannot retrieve the public link of the file. You may need to change\n\tthe permission to 'Anyone with the link', or have had many accesses.\n\tCheck FAQ in https://github.com/wkentaro/gdown?tab=readme-ov-file#faq.\n\nYou may still be able to access the file from the browser:\n\n\thttps://drive.google.com/uc?id=19rWCGW38ht8TLY1ad7gba46mP5FCIZul\n\nbut Gdown can't. Please check connections and permissions.",
          "traceback": [
            "\u001b[0;31m---------------------------------------------------------------------------\u001b[0m",
            "\u001b[0;31mFileURLRetrievalError\u001b[0m                     Traceback (most recent call last)",
            "\u001b[0;32m/usr/local/lib/python3.12/dist-packages/gdown/download.py\u001b[0m in \u001b[0;36mdownload\u001b[0;34m(url, output, quiet, proxy, speed, use_cookies, verify, id, fuzzy, resume, format, user_agent, log_messages)\u001b[0m\n\u001b[1;32m    266\u001b[0m         \u001b[0;32mtry\u001b[0m\u001b[0;34m:\u001b[0m\u001b[0;34m\u001b[0m\u001b[0;34m\u001b[0m\u001b[0m\n\u001b[0;32m--> 267\u001b[0;31m             \u001b[0murl\u001b[0m \u001b[0;34m=\u001b[0m \u001b[0mget_url_from_gdrive_confirmation\u001b[0m\u001b[0;34m(\u001b[0m\u001b[0mres\u001b[0m\u001b[0;34m.\u001b[0m\u001b[0mtext\u001b[0m\u001b[0;34m)\u001b[0m\u001b[0;34m\u001b[0m\u001b[0;34m\u001b[0m\u001b[0m\n\u001b[0m\u001b[1;32m    268\u001b[0m         \u001b[0;32mexcept\u001b[0m \u001b[0mFileURLRetrievalError\u001b[0m \u001b[0;32mas\u001b[0m \u001b[0me\u001b[0m\u001b[0;34m:\u001b[0m\u001b[0;34m\u001b[0m\u001b[0;34m\u001b[0m\u001b[0m\n",
            "\u001b[0;32m/usr/local/lib/python3.12/dist-packages/gdown/download.py\u001b[0m in \u001b[0;36mget_url_from_gdrive_confirmation\u001b[0;34m(contents)\u001b[0m\n\u001b[1;32m     54\u001b[0m     \u001b[0;32mif\u001b[0m \u001b[0;32mnot\u001b[0m \u001b[0murl\u001b[0m\u001b[0;34m:\u001b[0m\u001b[0;34m\u001b[0m\u001b[0;34m\u001b[0m\u001b[0m\n\u001b[0;32m---> 55\u001b[0;31m         raise FileURLRetrievalError(\n\u001b[0m\u001b[1;32m     56\u001b[0m             \u001b[0;34m\"Cannot retrieve the public link of the file. \"\u001b[0m\u001b[0;34m\u001b[0m\u001b[0;34m\u001b[0m\u001b[0m\n",
            "\u001b[0;31mFileURLRetrievalError\u001b[0m: Cannot retrieve the public link of the file. You may need to change the permission to 'Anyone with the link', or have had many accesses. Check FAQ in https://github.com/wkentaro/gdown?tab=readme-ov-file#faq.",
            "\nDuring handling of the above exception, another exception occurred:\n",
            "\u001b[0;31mFileURLRetrievalError\u001b[0m                     Traceback (most recent call last)",
            "\u001b[0;32m/tmp/ipython-input-3007835804.py\u001b[0m in \u001b[0;36m<cell line: 0>\u001b[0;34m()\u001b[0m\n\u001b[1;32m     15\u001b[0m     \u001b[0mprint\u001b[0m\u001b[0;34m(\u001b[0m\u001b[0;34m\"✅ Dataset já existe.\"\u001b[0m\u001b[0;34m)\u001b[0m\u001b[0;34m\u001b[0m\u001b[0;34m\u001b[0m\u001b[0m\n\u001b[1;32m     16\u001b[0m \u001b[0;32melse\u001b[0m\u001b[0;34m:\u001b[0m\u001b[0;34m\u001b[0m\u001b[0;34m\u001b[0m\u001b[0m\n\u001b[0;32m---> 17\u001b[0;31m     \u001b[0mprint\u001b[0m\u001b[0;34m(\u001b[0m\u001b[0;34m\"📥 Baixando...\"\u001b[0m\u001b[0;34m)\u001b[0m\u001b[0;34m;\u001b[0m \u001b[0mgdown\u001b[0m\u001b[0;34m.\u001b[0m\u001b[0mdownload\u001b[0m\u001b[0;34m(\u001b[0m\u001b[0murl\u001b[0m\u001b[0;34m,\u001b[0m \u001b[0mzip_name\u001b[0m\u001b[0;34m,\u001b[0m \u001b[0mquiet\u001b[0m\u001b[0;34m=\u001b[0m\u001b[0;32mFalse\u001b[0m\u001b[0;34m)\u001b[0m\u001b[0;34m\u001b[0m\u001b[0;34m\u001b[0m\u001b[0m\n\u001b[0m\u001b[1;32m     18\u001b[0m     \u001b[0mdest\u001b[0m \u001b[0;34m=\u001b[0m \u001b[0mcompact\u001b[0m\u001b[0;34m/\u001b[0m\u001b[0mzip_name\u001b[0m\u001b[0;34m;\u001b[0m \u001b[0mdest\u001b[0m\u001b[0;34m.\u001b[0m\u001b[0munlink\u001b[0m\u001b[0;34m(\u001b[0m\u001b[0mmissing_ok\u001b[0m\u001b[0;34m=\u001b[0m\u001b[0;32mTrue\u001b[0m\u001b[0;34m)\u001b[0m\u001b[0;34m;\u001b[0m \u001b[0mshutil\u001b[0m\u001b[0;34m.\u001b[0m\u001b[0mmove\u001b[0m\u001b[0;34m(\u001b[0m\u001b[0mzip_name\u001b[0m\u001b[0;34m,\u001b[0m \u001b[0mdest\u001b[0m\u001b[0;34m)\u001b[0m\u001b[0;34m\u001b[0m\u001b[0;34m\u001b[0m\u001b[0m\n\u001b[1;32m     19\u001b[0m     \u001b[0mprint\u001b[0m\u001b[0;34m(\u001b[0m\u001b[0;34m\"📂 Extraindo...\"\u001b[0m\u001b[0;34m)\u001b[0m\u001b[0;34m;\u001b[0m \u001b[0mzipfile\u001b[0m\u001b[0;34m.\u001b[0m\u001b[0mZipFile\u001b[0m\u001b[0;34m(\u001b[0m\u001b[0mdest\u001b[0m\u001b[0;34m)\u001b[0m\u001b[0;34m.\u001b[0m\u001b[0mextractall\u001b[0m\u001b[0;34m(\u001b[0m\u001b[0mextract\u001b[0m\u001b[0;34m)\u001b[0m\u001b[0;34m\u001b[0m\u001b[0;34m\u001b[0m\u001b[0m\n",
            "\u001b[0;32m/usr/local/lib/python3.12/dist-packages/gdown/download.py\u001b[0m in \u001b[0;36mdownload\u001b[0;34m(url, output, quiet, proxy, speed, use_cookies, verify, id, fuzzy, resume, format, user_agent, log_messages)\u001b[0m\n\u001b[1;32m    276\u001b[0m                 \u001b[0murl_origin\u001b[0m\u001b[0;34m,\u001b[0m\u001b[0;34m\u001b[0m\u001b[0;34m\u001b[0m\u001b[0m\n\u001b[1;32m    277\u001b[0m             )\n\u001b[0;32m--> 278\u001b[0;31m             \u001b[0;32mraise\u001b[0m \u001b[0mFileURLRetrievalError\u001b[0m\u001b[0;34m(\u001b[0m\u001b[0mmessage\u001b[0m\u001b[0;34m)\u001b[0m\u001b[0;34m\u001b[0m\u001b[0;34m\u001b[0m\u001b[0m\n\u001b[0m\u001b[1;32m    279\u001b[0m \u001b[0;34m\u001b[0m\u001b[0m\n\u001b[1;32m    280\u001b[0m     \u001b[0mfilename_from_url\u001b[0m \u001b[0;34m=\u001b[0m \u001b[0;32mNone\u001b[0m\u001b[0;34m\u001b[0m\u001b[0;34m\u001b[0m\u001b[0m\n",
            "\u001b[0;31mFileURLRetrievalError\u001b[0m: Failed to retrieve file url:\n\n\tCannot retrieve the public link of the file. You may need to change\n\tthe permission to 'Anyone with the link', or have had many accesses.\n\tCheck FAQ in https://github.com/wkentaro/gdown?tab=readme-ov-file#faq.\n\nYou may still be able to access the file from the browser:\n\n\thttps://drive.google.com/uc?id=19rWCGW38ht8TLY1ad7gba46mP5FCIZul\n\nbut Gdown can't. Please check connections and permissions."
          ]
        }
      ],
      "source": [
        "file_id = \"19rWCGW38ht8TLY1ad7gba46mP5FCIZul\"\n",
        "url = f\"https://drive.google.com/uc?id={file_id}\"\n",
        "zip_name = \"dataset_original.zip\"\n",
        "\n",
        "base = Path(\"datasets\"); compact = base/\"compactados\"; extract = base/\"dataset_original\"\n",
        "base.mkdir(exist_ok=True); compact.mkdir(parents=True, exist_ok=True); extract.mkdir(parents=True, exist_ok=True)\n",
        "\n",
        "exts = {\".jpg\",\".jpeg\",\".png\",\".bmp\",\".tiff\",\".tif\",\".webp\"}\n",
        "contar_imgs = lambda p: sum(1 for f in p.rglob(\"*\") if f.is_file() and f.suffix.lower() in exts)\n",
        "\n",
        "def pronto(p):\n",
        "    return p.exists() and sum(1 for d in p.iterdir() if d.is_dir()) == 14 and contar_imgs(p) == 2879\n",
        "\n",
        "if pronto(extract):\n",
        "    print(\"✅ Dataset já existe.\")\n",
        "else:\n",
        "    print(\"📥 Baixando...\"); gdown.download(url, zip_name, quiet=False)\n",
        "    dest = compact/zip_name; dest.unlink(missing_ok=True); shutil.move(zip_name, dest)\n",
        "    print(\"📂 Extraindo...\"); zipfile.ZipFile(dest).extractall(extract)\n",
        "    [shutil.rmtree(d, ignore_errors=True) for d in extract.rglob(\"__MACOSX\")]\n",
        "    [f.unlink(missing_ok=True) for f in extract.rglob(\".DS_Store\")]\n",
        "    print(f\"📸 Total de imagens: {contar_imgs(extract)}\")\n",
        "    print(\"✅ Dataset pronto em:\", base.resolve())\n"
      ]
    },
    {
      "cell_type": "markdown",
      "id": "v8mk7jom52Zp",
      "metadata": {
        "id": "v8mk7jom52Zp"
      },
      "source": [
        "## 6.3 Exploração de dados"
      ]
    },
    {
      "cell_type": "markdown",
      "id": "JVfl1FBp3lTa",
      "metadata": {
        "id": "JVfl1FBp3lTa"
      },
      "source": [
        "### 6.3.1 Organização do dataset"
      ]
    },
    {
      "cell_type": "code",
      "execution_count": null,
      "id": "Aj1QAse-4ja3",
      "metadata": {
        "id": "Aj1QAse-4ja3"
      },
      "outputs": [],
      "source": [
        "dataset_path = \"./datasets/dataset_original\""
      ]
    },
    {
      "cell_type": "markdown",
      "id": "PvhHKrI34n9F",
      "metadata": {
        "id": "PvhHKrI34n9F"
      },
      "source": [
        "#### 6.3.1.1 Quantidade total de imagens"
      ]
    },
    {
      "cell_type": "code",
      "execution_count": null,
      "id": "g1KUnenF3kmr",
      "metadata": {
        "colab": {
          "base_uri": "https://localhost:8080/"
        },
        "id": "g1KUnenF3kmr",
        "outputId": "415b144d-33b6-4c74-86bc-a2ad98a3c54b"
      },
      "outputs": [
        {
          "output_type": "execute_result",
          "data": {
            "text/plain": [
              "2879"
            ]
          },
          "metadata": {},
          "execution_count": 4
        }
      ],
      "source": [
        "total_images = sum(len(files) for _, _, files in os.walk(dataset_path))\n",
        "total_images"
      ]
    },
    {
      "cell_type": "markdown",
      "id": "b-vABkUP5npT",
      "metadata": {
        "id": "b-vABkUP5npT"
      },
      "source": [
        "#### 6.3.1.2 Número de classes (espécies)"
      ]
    },
    {
      "cell_type": "code",
      "execution_count": null,
      "id": "nSnlLqAW6Ois",
      "metadata": {
        "colab": {
          "base_uri": "https://localhost:8080/"
        },
        "id": "nSnlLqAW6Ois",
        "outputId": "d87ffa89-5151-4820-c90f-7e2da0dc6cfc"
      },
      "outputs": [
        {
          "output_type": "execute_result",
          "data": {
            "text/plain": [
              "14"
            ]
          },
          "metadata": {},
          "execution_count": 5
        }
      ],
      "source": [
        "classes = [d for d in os.listdir(dataset_path) if os.path.isdir(os.path.join(dataset_path, d))]\n",
        "num_classes = len(classes)\n",
        "num_classes"
      ]
    },
    {
      "cell_type": "markdown",
      "id": "0PRih2bu5nsK",
      "metadata": {
        "id": "0PRih2bu5nsK"
      },
      "source": [
        "### 6.3.2 Distribuição das classes"
      ]
    },
    {
      "cell_type": "markdown",
      "id": "1ppDf8KvLgzK",
      "metadata": {
        "id": "1ppDf8KvLgzK"
      },
      "source": [
        "#### 6.3.2.1 Frequência de imagens por classe com representação em quantidade e porcentagem"
      ]
    },
    {
      "cell_type": "code",
      "execution_count": null,
      "id": "EeIHV4IcG0RI",
      "metadata": {
        "colab": {
          "base_uri": "https://localhost:8080/",
          "height": 500
        },
        "id": "EeIHV4IcG0RI",
        "outputId": "2d2e371a-a7e3-4847-b2d3-911411d9d7ff"
      },
      "outputs": [
        {
          "output_type": "display_data",
          "data": {
            "text/plain": [
              "<Figure size 1100x500 with 1 Axes>"
            ],
            "image/png": "[encoded data removed]"
          },
          "metadata": {}
        }
      ],
      "source": [
        "df = pd.DataFrame([\n",
        "    (c, sum(1 for _,_,fs in os.walk(os.path.join(dataset_path, c))\n",
        "            for f in fs if os.path.splitext(f)[1].lower() in exts))\n",
        "    for c in os.listdir(dataset_path) if os.path.isdir(os.path.join(dataset_path, c))\n",
        "], columns=[\"classe\",\"imagens\"]).sort_values(\"imagens\")\n",
        "\n",
        "df[\"pct\"] = (df[\"imagens\"] / df[\"imagens\"].sum() * 100).round(2)\n",
        "\n",
        "plt.figure(figsize=(11,5))\n",
        "ax = sns.barplot(data=df, x=\"imagens\", y=\"classe\",\n",
        "                 hue=\"classe\", dodge=False, palette=\"viridis\",\n",
        "                 orient=\"h\", legend=False)\n",
        "\n",
        "for i, p in enumerate(ax.patches):\n",
        "    ax.text(p.get_width()+5, p.get_y()+p.get_height()/2,\n",
        "            f\"{int(p.get_width())} ({df['pct'].iloc[i]}%)\",\n",
        "            va=\"center\", ha=\"left\", weight=\"bold\")\n",
        "\n",
        "max_val = df[\"imagens\"].max()\n",
        "ax.set_xlim(0, max_val * 1.25)\n",
        "\n",
        "ax.set(title=\"Distribuição de imagens por classe\",\n",
        "       xlabel=\"Quantidade de imagens e Porcentagem\", ylabel=\"Classe\")\n",
        "\n",
        "plt.tight_layout()\n",
        "plt.show()\n"
      ]
    },
    {
      "cell_type": "code",
      "execution_count": null,
      "id": "mIa18c8nQ9Dv",
      "metadata": {
        "colab": {
          "base_uri": "https://localhost:8080/",
          "height": 487
        },
        "id": "mIa18c8nQ9Dv",
        "outputId": "a30e1e71-aee2-4943-d8b9-d4ca78cddb13"
      },
      "outputs": [
        {
          "output_type": "display_data",
          "data": {
            "text/plain": [
              "<Figure size 800x500 with 1 Axes>"
            ],
            "image/png": "[encoded data removed]"
          },
          "metadata": {}
        }
      ],
      "source": [
        "extensoes = []\n",
        "\n",
        "# Percorre todas as subpastas e arquivos\n",
        "for root, dirs, files in os.walk(dataset_path):\n",
        "    for file in files:\n",
        "        ext = os.path.splitext(file)[1].lower()\n",
        "        if ext:  # garante que tem extensão\n",
        "            extensoes.append(ext)\n",
        "\n",
        "# Conta as ocorrências de cada extensão\n",
        "contagem = Counter(extensoes)\n",
        "\n",
        "# Separa chaves e valores\n",
        "extensoes_unicas = list(contagem.keys())\n",
        "quantidades = list(contagem.values())\n",
        "\n",
        "# Cria gráfico de barras horizontal\n",
        "plt.figure(figsize=(8,5))\n",
        "bars = plt.barh(extensoes_unicas, quantidades, color=\"skyblue\")\n",
        "plt.xlabel(\"Quantidade de Imagens\")\n",
        "plt.ylabel(\"Extensão\")\n",
        "plt.title(\"Distribuição das Extensões de Arquivos de Imagem\")\n",
        "\n",
        "# Adiciona os valores na frente das barras\n",
        "for bar, qtd in zip(bars, quantidades):\n",
        "    plt.text(qtd + 0.5, bar.get_y() + bar.get_height()/2,\n",
        "             str(qtd), va=\"center\")\n",
        "\n",
        "plt.show()"
      ]
    },
    {
      "cell_type": "code",
      "execution_count": null,
      "id": "i_Igaq-wQ9BM",
      "metadata": {
        "colab": {
          "base_uri": "https://localhost:8080/",
          "height": 407
        },
        "id": "i_Igaq-wQ9BM",
        "outputId": "2610eb26-6c8b-49a0-ff3d-778c787ec3ef"
      },
      "outputs": [
        {
          "output_type": "display_data",
          "data": {
            "text/plain": [
              "<Figure size 800x400 with 1 Axes>"
            ],
            "image/png": "[encoded data removed]"
          },
          "metadata": {}
        }
      ],
      "source": [
        "resolucoes = []\n",
        "\n",
        "# Percorre todas as subpastas e arquivos\n",
        "for root, dirs, files in os.walk(dataset_path):\n",
        "    for file in files:\n",
        "        ext = os.path.splitext(file)[1].lower()\n",
        "        if ext in [\".jpg\", \".jpeg\", \".png\", \".bmp\", \".tiff\", \".gif\"]:\n",
        "            try:\n",
        "                img_path = os.path.join(root, file)\n",
        "                with Image.open(img_path) as img:\n",
        "                    w, h = img.size\n",
        "                    resolucoes.append((w, h))\n",
        "            except:\n",
        "                pass\n",
        "\n",
        "# Estatísticas\n",
        "larguras = [w for w, h in resolucoes]\n",
        "alturas = [h for w, h in resolucoes]\n",
        "\n",
        "res_min = (min(larguras), min(alturas))\n",
        "res_max = (max(larguras), max(alturas))\n",
        "res_media = (int(np.mean(larguras)), int(np.mean(alturas)))\n",
        "\n",
        "# Lista de barras com valores e rótulos\n",
        "barras = [\n",
        "    (\"Mínimo\", res_min),\n",
        "    (\"Média\", res_media),\n",
        "    (\"Máximo\", res_max)\n",
        "]\n",
        "\n",
        "# Ordena por largura*altura (área da imagem)\n",
        "barras.sort(key=lambda x: x[1][0]*x[1][1])\n",
        "\n",
        "# Extrai dados para plot\n",
        "nomes = [nome for nome, res in barras]\n",
        "res_labels = [f\"{res[0]}x{res[1]}\" for nome, res in barras]\n",
        "valores = [res[0]*res[1] for nome, res in barras]  # usado só para tamanho da barra\n",
        "\n",
        "# Cria gráfico horizontal\n",
        "plt.figure(figsize=(8,4))\n",
        "bars = plt.barh(range(len(nomes)), valores, color=[\"skyblue\", \"orange\", \"green\"])\n",
        "plt.yticks(range(len(nomes)), nomes)\n",
        "plt.xlabel(\"Resolução relativa (área)\")\n",
        "plt.title(\"Estatísticas das Resoluções das Imagens\")\n",
        "\n",
        "# Adiciona rótulo [LxA] na frente de cada barra\n",
        "for bar, label in zip(bars, res_labels):\n",
        "    plt.text(bar.get_width() + max(valores)*0.01,\n",
        "             bar.get_y() + bar.get_height()/2,\n",
        "             label, va=\"center\", fontsize=10)\n",
        "\n",
        "plt.tight_layout()\n",
        "plt.show()"
      ]
    },
    {
      "cell_type": "code",
      "execution_count": null,
      "id": "58eXyB5mQ8-z",
      "metadata": {
        "colab": {
          "base_uri": "https://localhost:8080/",
          "height": 507
        },
        "id": "58eXyB5mQ8-z",
        "outputId": "dc3346a7-266d-4891-ac18-a4ec2b568940"
      },
      "outputs": [
        {
          "output_type": "display_data",
          "data": {
            "text/plain": [
              "<Figure size 800x500 with 1 Axes>"
            ],
            "image/png": "[encoded data removed]"
          },
          "metadata": {}
        }
      ],
      "source": [
        "resolucoes = []\n",
        "\n",
        "# Percorre todas as subpastas e arquivos\n",
        "for root, dirs, files in os.walk(dataset_path):\n",
        "    for file in files:\n",
        "        ext = os.path.splitext(file)[1].lower()\n",
        "        if ext in [\".jpg\", \".jpeg\", \".png\", \".bmp\", \".tiff\", \".gif\"]:\n",
        "            try:\n",
        "                img_path = os.path.join(root, file)\n",
        "                with Image.open(img_path) as img:\n",
        "                    w, h = img.size\n",
        "                    resolucoes.append(f\"{w}x{h}\")  # guarda como string \"LxA\"\n",
        "            except:\n",
        "                pass  # ignora arquivos corrompidos\n",
        "\n",
        "# Conta quantas imagens têm cada resolução\n",
        "contagem = Counter(resolucoes)\n",
        "\n",
        "# Pega as 5 resoluções mais comuns\n",
        "top5 = contagem.most_common(5)  # retorna lista de tuplas: [(resolucao, quantidade), ...]\n",
        "\n",
        "# Separa em listas para plot\n",
        "resolucoes_top5 = [item[0] for item in top5]\n",
        "quantidades_top5 = [item[1] for item in top5]\n",
        "\n",
        "# Cria gráfico horizontal\n",
        "plt.figure(figsize=(8,5))\n",
        "# inverte listas para colocar a maior barra em cima\n",
        "bars = plt.barh(resolucoes_top5[::-1], quantidades_top5[::-1], color=\"skyblue\")\n",
        "plt.xlabel(\"Número de imagens\")\n",
        "plt.ylabel(\"Resolução [Largura x Altura]\")\n",
        "plt.title(\"Top 5 resoluções mais comuns\")\n",
        "\n",
        "# Adiciona número de imagens na frente de cada barra\n",
        "for bar, qtd in zip(bars, quantidades_top5[::-1]):\n",
        "    plt.text(qtd + max(quantidades_top5)*0.01,\n",
        "             bar.get_y() + bar.get_height()/2,\n",
        "             str(qtd), va=\"center\", fontsize=10)\n",
        "\n",
        "plt.tight_layout()\n",
        "plt.show()"
      ]
    },
    {
      "cell_type": "code",
      "execution_count": null,
      "id": "zKAISzUaQ88W",
      "metadata": {
        "colab": {
          "base_uri": "https://localhost:8080/"
        },
        "id": "zKAISzUaQ88W",
        "outputId": "d7be4523-bf35-4135-8eed-dbc98db78c7b"
      },
      "outputs": [
        {
          "output_type": "stream",
          "name": "stdout",
          "text": [
            "Número total de resoluções únicas: 361\n"
          ]
        }
      ],
      "source": [
        "\n",
        "# Número total de resoluções únicas\n",
        "total_resolucoes = len(contagem)\n",
        "print(f\"Número total de resoluções únicas: {total_resolucoes}\")"
      ]
    },
    {
      "cell_type": "code",
      "execution_count": null,
      "id": "saZaeYi7Q857",
      "metadata": {
        "colab": {
          "base_uri": "https://localhost:8080/",
          "height": 407
        },
        "id": "saZaeYi7Q857",
        "outputId": "d700e6de-b1ff-4d32-8ef8-323bb051e165"
      },
      "outputs": [
        {
          "output_type": "display_data",
          "data": {
            "text/plain": [
              "<Figure size 800x400 with 1 Axes>"
            ],
            "image/png": "[encoded data removed]"
          },
          "metadata": {}
        }
      ],
      "source": [
        "proporcoes = []\n",
        "\n",
        "# Percorre todas as subpastas e arquivos\n",
        "for root, dirs, files in os.walk(dataset_path):\n",
        "    for file in files:\n",
        "        ext = os.path.splitext(file)[1].lower()\n",
        "        if ext in [\".jpg\", \".jpeg\", \".png\", \".bmp\", \".tiff\", \".gif\"]:\n",
        "            try:\n",
        "                img_path = os.path.join(root, file)\n",
        "                with Image.open(img_path) as img:\n",
        "                    w, h = img.size\n",
        "                    proporcao = Fraction(w, h).limit_denominator(100)  # simplifica a fração\n",
        "                    proporcoes.append(proporcao)\n",
        "            except:\n",
        "                pass  # ignora arquivos corrompidos\n",
        "\n",
        "# Calcula estatísticas\n",
        "prop_min = min(proporcoes)\n",
        "prop_max = max(proporcoes)\n",
        "prop_media_decimal = np.mean([float(p) for p in proporcoes])\n",
        "prop_media = Fraction(prop_media_decimal).limit_denominator(100)\n",
        "\n",
        "# Lista para plot\n",
        "barras = [\n",
        "    (\"Mínima\", prop_min),\n",
        "    (\"Média\", prop_media),\n",
        "    (\"Máxima\", prop_max)\n",
        "]\n",
        "\n",
        "# Ordena por proporção decimal\n",
        "barras.sort(key=lambda x: float(x[1]))\n",
        "\n",
        "# Extrai dados para plot\n",
        "nomes = [nome for nome, val in barras]\n",
        "valores = [float(val) for nome, val in barras]\n",
        "labels = [f\"{val.numerator}:{val.denominator}\" for nome, val in barras]  # rótulo L:A\n",
        "\n",
        "# Cria gráfico horizontal\n",
        "plt.figure(figsize=(8,4))\n",
        "bars = plt.barh(nomes, valores, color=[\"skyblue\", \"orange\", \"green\"])\n",
        "plt.xlabel(\"Proporção (Largura / Altura)\")\n",
        "plt.title(\"Proporções das imagens: mínima, média e máxima\")\n",
        "\n",
        "# Adiciona rótulo L:A na frente da barra\n",
        "for bar, label in zip(bars, labels):\n",
        "    plt.text(bar.get_width() + 0.01, bar.get_y() + bar.get_height()/2,\n",
        "             label, va=\"center\", fontsize=10)\n",
        "\n",
        "plt.tight_layout()\n",
        "plt.show()"
      ]
    },
    {
      "cell_type": "code",
      "execution_count": null,
      "id": "RGjzny-kQ83G",
      "metadata": {
        "colab": {
          "base_uri": "https://localhost:8080/",
          "height": 407
        },
        "id": "RGjzny-kQ83G",
        "outputId": "e1f3038d-57c2-452f-d906-6cabbee3b296"
      },
      "outputs": [
        {
          "output_type": "display_data",
          "data": {
            "text/plain": [
              "<Figure size 1000x400 with 1 Axes>"
            ],
            "image/png": "[encoded data removed]"
          },
          "metadata": {}
        }
      ],
      "source": [
        "razoes = []\n",
        "\n",
        "# Percorre todas as subpastas e arquivos\n",
        "for root, dirs, files in os.walk(dataset_path):\n",
        "    for file in files:\n",
        "        ext = os.path.splitext(file)[1].lower()\n",
        "        if ext in [\".jpg\", \".jpeg\", \".png\", \".bmp\", \".tiff\", \".gif\"]:\n",
        "            try:\n",
        "                img_path = os.path.join(root, file)\n",
        "                with Image.open(img_path) as img:\n",
        "                    w, h = img.size\n",
        "                    razao = Fraction(w, h).limit_denominator(100)\n",
        "                    razoes.append(f\"{razao.numerator}:{razao.denominator}\")\n",
        "            except:\n",
        "                pass  # ignora arquivos corrompidos\n",
        "\n",
        "# Conta quantas imagens têm cada razão\n",
        "contagem = Counter(razoes)\n",
        "\n",
        "# Pega as 10 razões mais frequentes\n",
        "top10 = contagem.most_common(10)  # lista de tuplas: [(razao, quantidade), ...]\n",
        "\n",
        "# Separa em listas para plot\n",
        "razoes_top10 = [item[0] for item in top10]\n",
        "quantidades_top10 = [item[1] for item in top10]\n",
        "\n",
        "# Cria gráfico horizontal\n",
        "plt.figure(figsize=(10, max(4, len(razoes_top10)*0.4)))\n",
        "bars = plt.barh(razoes_top10[::-1], quantidades_top10[::-1], color=\"skyblue\")  # inverte para a mais frequente em cima\n",
        "plt.xlabel(\"Número de imagens\")\n",
        "plt.ylabel(\"Razão de aspecto [L:A]\")\n",
        "plt.title(\"Top 10 razões de aspecto mais frequentes\")\n",
        "\n",
        "# Adiciona número de imagens na frente de cada barra\n",
        "for bar, qtd in zip(bars, quantidades_top10[::-1]):\n",
        "    plt.text(qtd + max(quantidades_top10)*0.01, bar.get_y() + bar.get_height()/2,\n",
        "             str(qtd), va=\"center\", fontsize=10)\n",
        "\n",
        "plt.tight_layout()\n",
        "plt.show()"
      ]
    },
    {
      "cell_type": "code",
      "source": [
        "dataset_final_path = \"./datasets/dataset_aumentado\"\n",
        "\n",
        "# Número alvo de imagens por classe\n",
        "target_count = 300\n",
        "\n",
        "# Cria pasta final\n",
        "if not os.path.exists(dataset_final_path):\n",
        "    os.makedirs(dataset_final_path)\n",
        "\n",
        "# Funções de data augmentation usando Albumentations\n",
        "def get_random_augmentation():\n",
        "    # Escolhe aleatoriamente uma transformação\n",
        "    aug_type = random.choice([\"rotate\", \"flip\", \"cutout\"])\n",
        "    if aug_type == \"rotate\":\n",
        "        return Compose([Rotate(limit=(10, 340), p=1)])\n",
        "    elif aug_type == \"flip\":\n",
        "        # Aleatoriamente escolhe flip horizontal ou vertical\n",
        "        if random.random() > 0.5:\n",
        "            return Compose([HorizontalFlip(p=1)])\n",
        "        else:\n",
        "            return Compose([VerticalFlip(p=1)])\n",
        "    elif aug_type == \"cutout\":\n",
        "        return Compose([CoarseDropout(\n",
        "            max_holes=3, min_holes=1,\n",
        "            max_height=0.2, min_height=0.1,\n",
        "            max_width=0.2, min_width=0.1,\n",
        "            fill_value=0, p=1\n",
        "        )])\n",
        "\n",
        "# Percorre todas as classes\n",
        "for class_folder in os.listdir(dataset_path):\n",
        "    class_path = os.path.join(dataset_path, class_folder)\n",
        "    if not os.path.isdir(class_path):\n",
        "        continue\n",
        "\n",
        "    # Cria a pasta da classe no dataset final\n",
        "    final_class_path = os.path.join(dataset_final_path, class_folder)\n",
        "    os.makedirs(final_class_path, exist_ok=True)\n",
        "\n",
        "    # Lista todas as imagens\n",
        "    images = [f for f in os.listdir(class_path) if f.lower().endswith((\".png\", \".jpg\", \".jpeg\"))]\n",
        "\n",
        "    # Copia imagens originais para a pasta final\n",
        "    for img_name in images:\n",
        "        shutil.copy(os.path.join(class_path, img_name), os.path.join(final_class_path, img_name))\n",
        "\n",
        "    current_count = len(images)\n",
        "    print(f\"Classe '{class_folder}' tem {current_count} imagens. Processando...\")\n",
        "\n",
        "    # Gera imagens até atingir target_count\n",
        "    while current_count < target_count:\n",
        "        img_name = random.choice(images)\n",
        "        img_path = os.path.join(class_path, img_name)\n",
        "\n",
        "        # Carrega imagem com OpenCV\n",
        "        img = cv2.imread(img_path)\n",
        "        img = cv2.cvtColor(img, cv2.COLOR_BGR2RGB)\n",
        "\n",
        "        # Aplica uma transformação aleatória\n",
        "        aug = get_random_augmentation()\n",
        "        augmented = aug(image=img)['image']\n",
        "\n",
        "        # Salva imagem final\n",
        "        save_name = f\"aug_{current_count}.jpg\"\n",
        "        save_path = os.path.join(final_class_path, save_name)\n",
        "        augmented_bgr = cv2.cvtColor(augmented, cv2.COLOR_RGB2BGR)\n",
        "        cv2.imwrite(save_path, augmented_bgr)\n",
        "\n",
        "        current_count += 1\n",
        "\n",
        "    print(f\"Classe '{class_folder}' finalizada com {current_count} imagens.\")\n",
        "\n",
        "print(\"Data augmentation concluído. Dataset final criado em 'dataset_final'.\")"
      ],
      "metadata": {
        "colab": {
          "base_uri": "https://localhost:8080/"
        },
        "id": "-GU1rJX2t0c6",
        "outputId": "d47b1f8e-e2f7-4370-ef19-6e0f82ba6343",
        "collapsed": true
      },
      "id": "-GU1rJX2t0c6",
      "execution_count": null,
      "outputs": [
        {
          "output_type": "stream",
          "name": "stdout",
          "text": [
            "Classe 'eupsittula_aurea' tem 216 imagens. Processando...\n"
          ]
        },
        {
          "output_type": "stream",
          "name": "stderr",
          "text": [
            "/tmp/ipython-input-4006540478.py:23: UserWarning: Argument(s) 'max_holes, min_holes, max_height, min_height, max_width, min_width, fill_value' are not valid for transform CoarseDropout\n",
            "  return Compose([CoarseDropout(\n"
          ]
        },
        {
          "output_type": "stream",
          "name": "stdout",
          "text": [
            "Classe 'eupsittula_aurea' finalizada com 300 imagens.\n",
            "Classe 'anodorhynchus_hyacinthinus' tem 250 imagens. Processando...\n",
            "Classe 'anodorhynchus_hyacinthinus' finalizada com 300 imagens.\n",
            "Classe 'psittacara_leucophthalmus' tem 222 imagens. Processando...\n",
            "Classe 'psittacara_leucophthalmus' finalizada com 300 imagens.\n",
            "Classe 'ara_ararauna' tem 240 imagens. Processando...\n",
            "Classe 'ara_ararauna' finalizada com 300 imagens.\n",
            "Classe 'orthopsittaca_manilatus' tem 184 imagens. Processando...\n",
            "Classe 'orthopsittaca_manilatus' finalizada com 300 imagens.\n",
            "Classe 'forpus_xanthopterygius' tem 215 imagens. Processando...\n",
            "Classe 'forpus_xanthopterygius' finalizada com 300 imagens.\n",
            "Classe 'ara_macao' tem 172 imagens. Processando...\n",
            "Classe 'ara_macao' finalizada com 300 imagens.\n",
            "Classe 'amazona_amazonica' tem 189 imagens. Processando...\n",
            "Classe 'amazona_amazonica' finalizada com 300 imagens.\n",
            "Classe 'diopsittaca_nobilis' tem 217 imagens. Processando...\n",
            "Classe 'diopsittaca_nobilis' finalizada com 300 imagens.\n",
            "Classe 'touit_melanonotus' tem 150 imagens. Processando...\n",
            "Classe 'touit_melanonotus' finalizada com 300 imagens.\n",
            "Classe 'ara_chloropterus' tem 203 imagens. Processando...\n",
            "Classe 'ara_chloropterus' finalizada com 300 imagens.\n",
            "Classe 'primolius_maracana' tem 195 imagens. Processando...\n",
            "Classe 'primolius_maracana' finalizada com 300 imagens.\n",
            "Classe 'brotogeris_chiriri' tem 186 imagens. Processando...\n",
            "Classe 'brotogeris_chiriri' finalizada com 300 imagens.\n",
            "Classe 'amazona_aestiva' tem 240 imagens. Processando...\n",
            "Classe 'amazona_aestiva' finalizada com 300 imagens.\n",
            "Data augmentation concluído. Dataset final criado em 'dataset_final'.\n"
          ]
        }
      ]
    },
    {
      "cell_type": "code",
      "source": [
        "\"\"\"!zip -r meus_arquivos.zip /content/datasets/dataset_final\n",
        "from google.colab import files\n",
        "files.download(\"meus_arquivos.zip\")\"\"\""
      ],
      "metadata": {
        "id": "aHnH8zTMPRs6",
        "outputId": "417cbb3f-fe36-4227-c728-0f02b87a5145",
        "colab": {
          "base_uri": "https://localhost:8080/",
          "height": 36
        },
        "collapsed": true
      },
      "id": "aHnH8zTMPRs6",
      "execution_count": null,
      "outputs": [
        {
          "output_type": "execute_result",
          "data": {
            "text/plain": [
              "'!zip -r meus_arquivos.zip /content/datasets/dataset_final\\nfrom google.colab import files\\nfiles.download(\"meus_arquivos.zip\")'"
            ],
            "application/vnd.google.colaboratory.intrinsic+json": {
              "type": "string"
            }
          },
          "metadata": {},
          "execution_count": 14
        }
      ]
    },
    {
      "cell_type": "markdown",
      "source": [
        "## 6.4 Trenamento"
      ],
      "metadata": {
        "id": "3K-IyYmWV2O4"
      },
      "id": "3K-IyYmWV2O4"
    },
    {
      "cell_type": "markdown",
      "source": [
        "Neste tópico será abordado o treinamento de uma rede convolucional criada. Para isso, o dataset será dividido em treinamento e teste, bem como a classificação das imagens por meio dos nomes das aves — será utilizado o nome científico.\n",
        "\n",
        "A construção da rede será feita em quatro blocos, sendo o último o classificador. A rede será feita utilizando a ResNet50.\n",
        "\n"
      ],
      "metadata": {
        "id": "vMVq85tmJuI-"
      },
      "id": "vMVq85tmJuI-"
    },
    {
      "cell_type": "markdown",
      "source": [
        "### 6.4.1 Imports"
      ],
      "metadata": {
        "id": "787PKNILGegW"
      },
      "id": "787PKNILGegW"
    },
    {
      "cell_type": "code",
      "source": [
        "import os\n",
        "os.environ[\"KERAS_BACKEND\"] = \"torch\"\n",
        "os.environ[\"TF_FORCE_GPU_ALLOW_GROWTH\"] = \"true\"\n",
        "os.environ[\"CUDA_VISIBLE_DEVICES\"] = \"0\"\n",
        "import keras\n",
        "from keras.models import Sequential\n",
        "from keras import datasets, layers, models\n",
        "from keras.utils import to_categorical\n",
        "from keras import regularizers\n",
        "from keras.layers import Dense, Dropout, BatchNormalization\n",
        "import numpy as np\n",
        "from sklearn.metrics import confusion_matrix, ConfusionMatrixDisplay\n",
        "import seaborn as sns\n",
        "import tensorflow as tf\n",
        "from tensorflow.keras.utils import image_dataset_from_directory\n",
        "import matplotlib.pyplot as plt"
      ],
      "metadata": {
        "id": "gv6GBz3mV0wB"
      },
      "id": "gv6GBz3mV0wB",
      "execution_count": null,
      "outputs": []
    },
    {
      "cell_type": "markdown",
      "source": [
        "### 6.4.2 Divisão de Datasets em train e Test"
      ],
      "metadata": {
        "id": "vP2wtGc6Gltf"
      },
      "id": "vP2wtGc6Gltf"
    },
    {
      "cell_type": "code",
      "source": [
        "data_dir = \"./datasets/dataset_aumentado\"\n",
        "\n",
        "# Pastas de saída\n",
        "train_dir = \"./datasets/train_images\"\n",
        "test_dir = \"./datasets/test_images\"\n",
        "\n",
        "# Criar as pastas de destino\n",
        "os.makedirs(train_dir, exist_ok=True)\n",
        "os.makedirs(test_dir, exist_ok=True)\n",
        "\n",
        "# Definir proporções\n",
        "train_split = 0.8\n",
        "test_split = 0.2\n",
        "\n",
        "# Loop em cada subpasta (classe)\n",
        "for class_name in os.listdir(data_dir):\n",
        "    class_path = os.path.join(data_dir, class_name)\n",
        "    if not os.path.isdir(class_path):\n",
        "        continue\n",
        "\n",
        "    # Criar subpastas correspondentes em train/test\n",
        "    os.makedirs(os.path.join(train_dir, class_name), exist_ok=True)\n",
        "    os.makedirs(os.path.join(test_dir, class_name), exist_ok=True)\n",
        "\n",
        "    # Listar imagens da classe\n",
        "    images = os.listdir(class_path)\n",
        "    random.shuffle(images)\n",
        "\n",
        "    # Separar em 80% / 20%\n",
        "    split_idx = int(len(images) * train_split)\n",
        "    train_files = images[:split_idx]\n",
        "    test_files = images[split_idx:]\n",
        "\n",
        "    # Copiar arquivos\n",
        "    for img in train_files:\n",
        "        shutil.copy(os.path.join(class_path, img),\n",
        "                    os.path.join(train_dir, class_name, img))\n",
        "    for img in test_files:\n",
        "        shutil.copy(os.path.join(class_path, img),\n",
        "                    os.path.join(test_dir, class_name, img))\n",
        "\n",
        "print(\"✅ Divisão concluída!\")"
      ],
      "metadata": {
        "id": "HYL1h2vsVjnB",
        "outputId": "affc3373-880f-467d-b320-ad3b6f252888",
        "colab": {
          "base_uri": "https://localhost:8080/"
        }
      },
      "id": "HYL1h2vsVjnB",
      "execution_count": null,
      "outputs": [
        {
          "output_type": "stream",
          "name": "stdout",
          "text": [
            "✅ Divisão concluída!\n"
          ]
        }
      ]
    },
    {
      "cell_type": "code",
      "source": [
        "\"\"\"!zip -r testImage.zip /content/datasets/test_images\n",
        "from google.colab import files\n",
        "files.download(\"testImage.zip\")\n",
        "\n",
        "!zip -r trainImage.zip /content/datasets/train_images\n",
        "from google.colab import files\n",
        "files.download(\"trainImage.zip\")\"\"\""
      ],
      "metadata": {
        "id": "thh7W1YaXjZ2",
        "outputId": "1d359ed7-a8eb-46ee-8f1f-d3e44b71aa6f",
        "colab": {
          "base_uri": "https://localhost:8080/",
          "height": 53
        },
        "collapsed": true
      },
      "id": "thh7W1YaXjZ2",
      "execution_count": null,
      "outputs": [
        {
          "output_type": "execute_result",
          "data": {
            "text/plain": [
              "'!zip -r testImage.zip /content/datasets/test_images\\nfrom google.colab import files\\nfiles.download(\"testImage.zip\")\\n\\n!zip -r trainImage.zip /content/datasets/train_images\\nfrom google.colab import files\\nfiles.download(\"trainImage.zip\")'"
            ],
            "application/vnd.google.colaboratory.intrinsic+json": {
              "type": "string"
            }
          },
          "metadata": {},
          "execution_count": 17
        }
      ]
    },
    {
      "cell_type": "markdown",
      "source": [
        "### 6.4.3 Aplicação de rotulos"
      ],
      "metadata": {
        "id": "G2hscSzOGyD_"
      },
      "id": "G2hscSzOGyD_"
    },
    {
      "cell_type": "code",
      "source": [
        "# 1. Definição dos parâmetros e caminhos\n",
        "# ---\n",
        "# A lista de nomes de classes que define a ordem dos rótulos\n",
        "class_names = [\n",
        "    \"amazona_aestiva\",\n",
        "    \"amazona_amazonica\",\n",
        "    \"anodorhynchus_hyacinthinus\",\n",
        "    \"ara_ararauna\",\n",
        "    \"ara_chloropterus\",\n",
        "    \"ara_macao\",\n",
        "    \"brotogeris_chiriri\",\n",
        "    \"diopsittaca_nobilis\",\n",
        "    \"eupsittula_aurea\",\n",
        "    \"forpus_xanthopterygius\",\n",
        "    \"orthopsittaca_manilatus\",\n",
        "    \"primolius_maracana\",\n",
        "    \"psittacara_leucophthalmus\",\n",
        "    \"touit_melanonotus\",\n",
        "]\n",
        "\n",
        "# Defina o caminho base e os caminhos para os dados de treino e teste.\n",
        "# **ATENÇÃO:** Você deve mudar estes caminhos para os caminhos reais em seu sistema.\n",
        "BASE_PATH = './datasets'  # Assumindo que 'test_images' e 'train_images' estão no diretório atual\n",
        "train_dir = os.path.join(BASE_PATH, 'train_images')\n",
        "test_dir = os.path.join(BASE_PATH, 'test_images')\n",
        "\n",
        "# Parâmetros para carregamento das imagens\n",
        "IMAGE_SIZE = (128, 128) # Tamanho da imagem que será redimensionada\n",
        "BATCH_SIZE = 32         # Número de imagens por batch durante o carregamento\n",
        "\n",
        "# 2. Carregamento e Pré-processamento dos dados\n",
        "# ---\n",
        "\n",
        "print(\"Carregando dados de TREINO...\")\n",
        "# dataset de TREINO\n",
        "train_ds = image_dataset_from_directory(\n",
        "    train_dir,\n",
        "    labels='inferred',                   # Rótulos inferidos pelo nome das subpastas\n",
        "    label_mode='int',                    # Rótulos codificados como inteiros (0, 1, 2, ...)\n",
        "    class_names=class_names,             # Garante a ordem correta das classes\n",
        "    image_size=IMAGE_SIZE,               # Redimensiona todas as imagens\n",
        "    interpolation='bilinear',\n",
        "    shuffle=True,                        # Embaralha os dados de treino\n",
        "    batch_size=BATCH_SIZE\n",
        ")\n",
        "\n",
        "print(\"\\nCarregando dados de TESTE...\")\n",
        "# dataset de TESTE\n",
        "test_ds = image_dataset_from_directory(\n",
        "    test_dir,\n",
        "    labels='inferred',\n",
        "    label_mode='int',\n",
        "    class_names=class_names,\n",
        "    image_size=IMAGE_SIZE,\n",
        "    interpolation='bilinear',\n",
        "    shuffle=False,                       # Não é necessário embaralhar dados de teste\n",
        "    batch_size=BATCH_SIZE\n",
        ")\n",
        "\n",
        "# Pré-processamento: normalização dos valores de pixel para o intervalo [0, 1]\n",
        "# A maioria dos modelos de aprendizado profundo espera esta normalização.\n",
        "normalization_layer = tf.keras.layers.Rescaling(1./255)\n",
        "\n",
        "train_ds = train_ds.map(lambda x, y: (normalization_layer(x), y))\n",
        "test_ds = test_ds.map(lambda x, y: (normalization_layer(x), y))\n",
        "\n",
        "\n",
        "# 3. Conversão para Arrays NumPy (Vetores)\n",
        "# ---\n",
        "\n",
        "def dataset_to_numpy(dataset):\n",
        "    \"\"\"Converte um dataset de tf.data.Dataset em dois arrays NumPy (imagens e labels).\"\"\"\n",
        "    images = []\n",
        "    labels = []\n",
        "    for img_batch, label_batch in dataset.unbatch().as_numpy_iterator():\n",
        "        images.append(img_batch)\n",
        "        labels.append(label_batch)\n",
        "\n",
        "    # Empilha as listas para formar um único array NumPy\n",
        "    if not images:\n",
        "        print(\"Atenção: Nenhum dado encontrado no dataset.\")\n",
        "        return np.array([]), np.array([])\n",
        "\n",
        "    return np.array(images), np.array(labels)\n",
        "\n",
        "print(\"\\nConvertendo datasets de treino para arrays NumPy...\")\n",
        "train_images, train_labels = dataset_to_numpy(train_ds)\n",
        "\n",
        "print(\"Convertendo datasets de teste para arrays NumPy...\")\n",
        "test_images, test_labels = dataset_to_numpy(test_ds)\n",
        "\n",
        "\n",
        "# 4. Exibição dos resultados e resumo\n",
        "# ---\n",
        "print(\"\\n\" + \"=\"*50)\n",
        "print(\"RESUMO DOS VETORES GERADOS\")\n",
        "print(\"=\"*50)\n",
        "print(f\"train_images (imagens de treino): {train_images.shape}\")\n",
        "print(f\"train_labels (rótulos de treino): {train_labels.shape}\")\n",
        "print(f\"test_images (imagens de teste): {test_images.shape}\")\n",
        "print(f\"test_labels (rótulos de teste): {test_labels.shape}\")\n",
        "print(f\"Tipo de dado das imagens: {train_images.dtype}\")\n",
        "print(f\"Tipo de dado dos rótulos: {train_labels.dtype}\")\n",
        "\n",
        "# Verificação de um rótulo\n",
        "if train_labels.size > 0:\n",
        "    exemplo_label_idx = train_labels[0]\n",
        "    nome_classe = class_names[exemplo_label_idx]\n",
        "    print(f\"\\nExemplo: O primeiro rótulo ({exemplo_label_idx}) corresponde à classe: '{nome_classe}'\")"
      ],
      "metadata": {
        "id": "NE5TEp0HscMQ",
        "colab": {
          "base_uri": "https://localhost:8080/"
        },
        "outputId": "c0cfc816-2eb1-4c92-f364-687ec0bface0"
      },
      "id": "NE5TEp0HscMQ",
      "execution_count": null,
      "outputs": [
        {
          "output_type": "stream",
          "name": "stdout",
          "text": [
            "Carregando dados de TREINO...\n",
            "Found 3360 files belonging to 14 classes.\n",
            "\n",
            "Carregando dados de TESTE...\n",
            "Found 840 files belonging to 14 classes.\n",
            "\n",
            "Convertendo datasets de treino para arrays NumPy...\n",
            "Convertendo datasets de teste para arrays NumPy...\n",
            "\n",
            "==================================================\n",
            "RESUMO DOS VETORES GERADOS\n",
            "==================================================\n",
            "train_images (imagens de treino): (3360, 128, 128, 3)\n",
            "train_labels (rótulos de treino): (3360,)\n",
            "test_images (imagens de teste): (840, 128, 128, 3)\n",
            "test_labels (rótulos de teste): (840,)\n",
            "Tipo de dado das imagens: float32\n",
            "Tipo de dado dos rótulos: int32\n",
            "\n",
            "Exemplo: O primeiro rótulo (3) corresponde à classe: 'ara_ararauna'\n"
          ]
        }
      ]
    },
    {
      "cell_type": "markdown",
      "source": [
        "### 6.4.5 Imagem de treino"
      ],
      "metadata": {
        "id": "qt7Cz9jKG7um"
      },
      "id": "qt7Cz9jKG7um"
    },
    {
      "cell_type": "code",
      "source": [
        "# Certifique-se de que 'class_names', 'train_images' e 'train_labels'\n",
        "# foram definidos na célula anterior.\n",
        "\n",
        "if train_images.size > 0:\n",
        "    # 1. Seleciona a primeira imagem e seu rótulo\n",
        "    primeira_imagem = train_images[3]\n",
        "    primeiro_label_index = train_labels[3]\n",
        "\n",
        "    # 2. Obtém o nome da classe\n",
        "    nome_da_classe = class_names[primeiro_label_index]\n",
        "\n",
        "    # 3. Plota a imagem\n",
        "    plt.figure(figsize=(6, 6))\n",
        "\n",
        "    # A imagem já está normalizada (entre 0 e 1), então ela pode ser exibida diretamente.\n",
        "    plt.imshow(primeira_imagem)\n",
        "\n",
        "    plt.title(f\"Exemplo de Imagem de Treino\\nClasse: {primeiro_label_index} ({nome_da_classe})\")\n",
        "    plt.axis('off') # Remove os eixos\n",
        "    plt.show()\n",
        "\n",
        "else:\n",
        "    print(\"Os arrays de treino estão vazios. Verifique os caminhos dos diretórios na célula de carregamento.\")"
      ],
      "metadata": {
        "id": "TqyoVfhytHZs",
        "outputId": "e60cae2f-ad6a-475a-9531-3cdd2de1af65",
        "colab": {
          "base_uri": "https://localhost:8080/",
          "height": 542
        }
      },
      "id": "TqyoVfhytHZs",
      "execution_count": null,
      "outputs": [
        {
          "output_type": "display_data",
          "data": {
            "text/plain": [
              "<Figure size 600x600 with 1 Axes>"
            ],
            "image/png": "[encoded data removed]"
          },
          "metadata": {}
        }
      ]
    },
    {
      "cell_type": "markdown",
      "source": [
        "### 6.4.6 Definição da gpu"
      ],
      "metadata": {
        "id": "PeFHUAaeHJoI"
      },
      "id": "PeFHUAaeHJoI"
    },
    {
      "cell_type": "code",
      "source": [
        "\"\"\"\n",
        "# Lista todos os dispositivos disponíveis (CPU e GPU)\n",
        "gpus = tf.config.experimental.list_physical_devices('GPU')\n",
        "\n",
        "if gpus:\n",
        "    try:\n",
        "        # Configuração para que o TensorFlow aloque memória de forma dinâmica\n",
        "        # Isso ajuda a evitar o erro \"CUDNN_STATUS_ALLOC_FAILED\"\n",
        "        for gpu in gpus:\n",
        "            tf.config.experimental.set_memory_growth(gpu, True)\n",
        "\n",
        "        # Define que o TensorFlow usará o primeiro dispositivo GPU encontrado\n",
        "        tf.config.experimental.set_visible_devices(gpus[0], 'GPU')\n",
        "\n",
        "        print(\"---\")\n",
        "        print(\"GPU CONFIGURADA COM SUCESSO!\")\n",
        "        print(f\"Dispositivo GPU encontrado: {gpus[0].name}\")\n",
        "        print(\"---\")\n",
        "\n",
        "    except RuntimeError as e:\n",
        "        # Erro de tempo de execução se a configuração for definida após a inicialização da GPU\n",
        "        print(f\"Erro ao configurar a GPU: {e}\")\n",
        "\n",
        "else:\n",
        "    print(\"---\")\n",
        "    print(\"Nenhuma GPU (CUDA) detectada. O TensorFlow usará a CPU.\")\n",
        "    print(\"Verifique se os drivers NVIDIA, CUDA Toolkit e cuDNN estão instalados corretamente.\")\n",
        "    print(\"---\")\n",
        "\n",
        "# Exibe o dispositivo padrão onde as operações serão executadas\n",
        "print(f\"\\nDispositivo padrão para execução: {tf.config.list_logical_devices()}\")\"\"\""
      ],
      "metadata": {
        "id": "7-G09elgvk0T",
        "outputId": "593c01ae-15db-46a2-c7ba-290a4082a188",
        "colab": {
          "base_uri": "https://localhost:8080/"
        }
      },
      "id": "7-G09elgvk0T",
      "execution_count": null,
      "outputs": [
        {
          "output_type": "stream",
          "name": "stdout",
          "text": [
            "---\n",
            "Nenhuma GPU (CUDA) detectada. O TensorFlow usará a CPU.\n",
            "Verifique se os drivers NVIDIA, CUDA Toolkit e cuDNN estão instalados corretamente.\n",
            "---\n",
            "\n",
            "Dispositivo padrão para execução: [LogicalDevice(name='/device:CPU:0', device_type='CPU')]\n"
          ]
        }
      ]
    },
    {
      "cell_type": "code",
      "source": [],
      "metadata": {
        "id": "rTlucIWoRkDV"
      },
      "id": "rTlucIWoRkDV",
      "execution_count": null,
      "outputs": []
    },
    {
      "cell_type": "markdown",
      "source": [
        "### 6.4.5 Camadas Convolucionais"
      ],
      "metadata": {
        "id": "p2qSW3YmHPo_"
      },
      "id": "p2qSW3YmHPo_"
    },
    {
      "cell_type": "code",
      "source": [
        "\"\"\"import tensorflow as tf\n",
        "from tensorflow.keras.utils import to_categorical\n",
        "from tensorflow.keras import models, layers, regularizers ### ALTERAÇÃO ###\n",
        "from tensorflow.keras.callbacks import ModelCheckpoint, EarlyStopping, ReduceLROnPlateau\n",
        "import numpy as np\n",
        "\n",
        "# ==============================================================================\n",
        "# CONFIGURAÇÕES E HIPERPARÂMETROS\n",
        "# ==============================================================================\n",
        "\n",
        "# --- Parâmetros de Dados e Modelo ---\n",
        "# Supondo que as variáveis train_images, train_labels, test_images, test_labels já foram carregadas\n",
        "if 'train_images' in locals() and train_images.shape[0] > 0:\n",
        "    INPUT_SHAPE = train_images.shape[1:]\n",
        "else:\n",
        "    INPUT_SHAPE = (224, 224, 3) # Shape padrão se os dados não estiverem carregados\n",
        "\n",
        "CLASS_NAMES = ['Amazona aestiva', 'Amazona amazonica', 'Anodorhynchus hyacinthinus', 'Ara ararauna',\n",
        "               'Ara chloropterus', 'Ara macao', 'Brotogeris chiriri', 'Diopsittaca nobilis',\n",
        "               'Eupsittula aurea', 'Forpus xanthopterygius', 'Orthopsittaca manilatus',\n",
        "               'Primolius maracana', 'Psittacara leucophthalmus', 'Touit melanonotus']\n",
        "NUM_CLASSES = len(CLASS_NAMES)\n",
        "MODEL_FILEPATH = 'melhor_modelo_vgg_style_l2.keras' # Mudei o nome para não sobrescrever\n",
        "\n",
        "# --- Hiperparâmetros da Arquitetura ---\n",
        "KERNEL_SIZE = (3, 3)\n",
        "POOL_SIZE = (2, 2)\n",
        "DENSE_UNITS = 512\n",
        "DROPOUT_CONV = 0.35\n",
        "DROPOUT_DENSE = 0.5\n",
        "L2_FACTOR = 0.001  ### ALTERAÇÃO ### Fator para a regularização L2 (Weight Decay)\n",
        "\n",
        "# --- Hiperparâmetros de Treinamento ---\n",
        "OPTIMIZER = 'adam'\n",
        "LOSS_FUNCTION = 'categorical_crossentropy'\n",
        "BATCH_SIZE = 16\n",
        "EPOCHS = 150\n",
        "\n",
        "# --- Configurações dos Callbacks ---\n",
        "MONITOR_METRIC = 'val_accuracy'\n",
        "ES_PATIENCE = 10\n",
        "RLR_PATIENCE = 3\n",
        "RLR_FACTOR = 0.2\n",
        "RLR_MIN_LR = 1e-6\n",
        "\n",
        "# ==============================================================================\n",
        "# PREPARAÇÃO DOS DADOS\n",
        "# ==============================================================================\n",
        "\n",
        "train_labels_one_hot = to_categorical(train_labels, NUM_CLASSES)\n",
        "test_labels_one_hot = to_categorical(test_labels, NUM_CLASSES)\n",
        "\n",
        "# ==============================================================================\n",
        "# ARQUITETURA DO MODELO COM REGULARIZAÇÃO L2\n",
        "# ==============================================================================\n",
        "\n",
        "model = models.Sequential([\n",
        "    # Bloco 1 (32 filtros)\n",
        "    layers.Conv2D(filters=32, kernel_size=KERNEL_SIZE, activation='relu', padding='same', input_shape=INPUT_SHAPE, kernel_regularizer=regularizers.l2(L2_FACTOR)), ### ALTERAÇÃO ###\n",
        "    layers.BatchNormalization(),\n",
        "    layers.Conv2D(filters=32, kernel_size=KERNEL_SIZE, activation='relu', padding='same', kernel_regularizer=regularizers.l2(L2_FACTOR)), ### ALTERAÇÃO ###\n",
        "    layers.BatchNormalization(),\n",
        "    layers.MaxPool2D(pool_size=POOL_SIZE),\n",
        "    layers.Dropout(DROPOUT_CONV),\n",
        "\n",
        "    # Bloco 2 (64 filtros)\n",
        "    layers.Conv2D(filters=64, kernel_size=KERNEL_SIZE, activation='relu', padding='same', kernel_regularizer=regularizers.l2(L2_FACTOR)), ### ALTERAÇÃO ###\n",
        "    layers.BatchNormalization(),\n",
        "    layers.Conv2D(filters=64, kernel_size=KERNEL_SIZE, activation='relu', padding='same', kernel_regularizer=regularizers.l2(L2_FACTOR)), ### ALTERAÇÃO ###\n",
        "    layers.BatchNormalization(),\n",
        "    layers.MaxPool2D(pool_size=POOL_SIZE),\n",
        "    layers.Dropout(DROPOUT_CONV),\n",
        "\n",
        "    # Bloco 3 (128 filtros)\n",
        "    layers.Conv2D(filters=128, kernel_size=KERNEL_SIZE, activation='relu', padding='same', kernel_regularizer=regularizers.l2(L2_FACTOR)), ### ALTERAÇÃO ###\n",
        "    layers.BatchNormalization(),\n",
        "    layers.Conv2D(filters=128, kernel_size=KERNEL_SIZE, activation='relu', padding='same', kernel_regularizer=regularizers.l2(L2_FACTOR)), ### ALTERAÇÃO ###\n",
        "    layers.BatchNormalization(),\n",
        "    layers.MaxPool2D(pool_size=POOL_SIZE),\n",
        "    layers.Dropout(DROPOUT_CONV),\n",
        "\n",
        "    # Bloco 4 (256 filtros)\n",
        "    layers.Conv2D(filters=256, kernel_size=KERNEL_SIZE, activation='relu', padding='same', kernel_regularizer=regularizers.l2(L2_FACTOR)), ### ALTERAÇÃO ###\n",
        "    layers.BatchNormalization(),\n",
        "    layers.Conv2D(filters=256, kernel_size=KERNEL_SIZE, activation='relu', padding='same', kernel_regularizer=regularizers.l2(L2_FACTOR)), ### ALTERAÇÃO ###\n",
        "    layers.BatchNormalization(),\n",
        "    layers.MaxPool2D(pool_size=POOL_SIZE),\n",
        "    layers.Dropout(DROPOUT_CONV),\n",
        "\n",
        "    # Classificador\n",
        "    layers.Flatten(),\n",
        "    layers.Dense(DENSE_UNITS, activation='relu', kernel_regularizer=regularizers.l2(L2_FACTOR)), ### ALTERAÇÃO ###\n",
        "    layers.BatchNormalization(),\n",
        "    layers.Dropout(DROPOUT_DENSE),\n",
        "    layers.Dense(NUM_CLASSES, activation='softmax')\n",
        "])\n",
        "\n",
        "# ==============================================================================\n",
        "# COMPILAÇÃO E CALLBACKS\n",
        "# ==============================================================================\n",
        "\n",
        "model.compile(optimizer=OPTIMIZER,\n",
        "              loss=LOSS_FUNCTION,\n",
        "              metrics=['accuracy'])\n",
        "\n",
        "print(\"\\nResumo do Modelo:\")\n",
        "model.summary()\n",
        "\n",
        "# Callbacks... (código permanece o mesmo)\n",
        "checkpoint_callback = ModelCheckpoint(filepath=MODEL_FILEPATH, monitor=MONITOR_METRIC, save_best_only=True, mode='max', verbose=1)\n",
        "early_stopping = EarlyStopping(monitor=MONITOR_METRIC, patience=ES_PATIENCE, restore_best_weights=True, verbose=1)\n",
        "reduce_lr = ReduceLROnPlateau(monitor=MONITOR_METRIC, factor=RLR_FACTOR, patience=RLR_PATIENCE, min_lr=RLR_MIN_LR, verbose=1)\n",
        "\n",
        "# ==============================================================================\n",
        "# TREINAMENTO\n",
        "# ==============================================================================\n",
        "\n",
        "print(\"\\nIniciando Treinamento...\")\n",
        "history = model.fit(\n",
        "    train_images,\n",
        "    train_labels_one_hot,\n",
        "    batch_size=BATCH_SIZE,\n",
        "    epochs=EPOCHS,\n",
        "    validation_data=(test_images, test_labels_one_hot),\n",
        "    callbacks=[checkpoint_callback, early_stopping, reduce_lr]\n",
        ")\n",
        "\n",
        "# ==============================================================================\n",
        "# AVALIAÇÃO FINAL\n",
        "# ==============================================================================\n",
        "\n",
        "print(f\"\\nCarregando o melhor modelo salvo em '{MODEL_FILEPATH}'...\")\n",
        "best_model = models.load_model(MODEL_FILEPATH)\n",
        "\n",
        "print(\"\\nAvaliando o desempenho do MELHOR modelo no conjunto de teste:\")\n",
        "loss, accuracy = best_model.evaluate(test_images, test_labels_one_hot)\n",
        "\n",
        "print(f\"\\n-> Acurácia do MELHOR modelo no conjunto de teste: {accuracy * 100:.2f}%\")\"\"\""
      ],
      "metadata": {
        "id": "AsIOXQDfQ4sP",
        "outputId": "ccd4696c-d062-405a-a0dc-b3c192b83d7a",
        "colab": {
          "base_uri": "https://localhost:8080/",
          "height": 1000
        }
      },
      "id": "AsIOXQDfQ4sP",
      "execution_count": null,
      "outputs": [
        {
          "output_type": "stream",
          "name": "stdout",
          "text": [
            "Shape dos rótulos de treino após One-Hot Encoding: (3360, 14)\n",
            "Shape dos rótulos de teste após One-Hot Encoding: (840, 14)\n",
            "\n",
            "Resumo do Modelo:\n"
          ]
        },
        {
          "output_type": "stream",
          "name": "stderr",
          "text": [
            "/usr/local/lib/python3.12/dist-packages/keras/src/layers/convolutional/base_conv.py:113: UserWarning: Do not pass an `input_shape`/`input_dim` argument to a layer. When using Sequential models, prefer using an `Input(shape)` object as the first layer in the model instead.\n",
            "  super().__init__(activity_regularizer=activity_regularizer, **kwargs)\n"
          ]
        },
        {
          "output_type": "display_data",
          "data": {
            "text/plain": [
              "\u001b[1mModel: \"sequential\"\u001b[0m\n"
            ],
            "text/html": [
              "<pre style=\"white-space:pre;overflow-x:auto;line-height:normal;font-family:Menlo,'DejaVu Sans Mono',consolas,'Courier New',monospace\"><span style=\"font-weight: bold\">Model: \"sequential\"</span>\n",
              "</pre>\n"
            ]
          },
          "metadata": {}
        },
        {
          "output_type": "display_data",
          "data": {
            "text/plain": [
              "┏━━━━━━━━━━━━━━━━━━━━━━━━━━━━━━━━━┳━━━━━━━━━━━━━━━━━━━━━━━━┳━━━━━━━━━━━━━━━┓\n",
              "┃\u001b[1m \u001b[0m\u001b[1mLayer (type)                   \u001b[0m\u001b[1m \u001b[0m┃\u001b[1m \u001b[0m\u001b[1mOutput Shape          \u001b[0m\u001b[1m \u001b[0m┃\u001b[1m \u001b[0m\u001b[1m      Param #\u001b[0m\u001b[1m \u001b[0m┃\n",
              "┡━━━━━━━━━━━━━━━━━━━━━━━━━━━━━━━━━╇━━━━━━━━━━━━━━━━━━━━━━━━╇━━━━━━━━━━━━━━━┩\n",
              "│ conv1_1 (\u001b[38;5;33mConv2D\u001b[0m)                │ (\u001b[38;5;45mNone\u001b[0m, \u001b[38;5;34m128\u001b[0m, \u001b[38;5;34m128\u001b[0m, \u001b[38;5;34m16\u001b[0m)   │           \u001b[38;5;34m448\u001b[0m │\n",
              "├─────────────────────────────────┼────────────────────────┼───────────────┤\n",
              "│ batch_normalization             │ (\u001b[38;5;45mNone\u001b[0m, \u001b[38;5;34m128\u001b[0m, \u001b[38;5;34m128\u001b[0m, \u001b[38;5;34m16\u001b[0m)   │            \u001b[38;5;34m64\u001b[0m │\n",
              "│ (\u001b[38;5;33mBatchNormalization\u001b[0m)            │                        │               │\n",
              "├─────────────────────────────────┼────────────────────────┼───────────────┤\n",
              "│ conv1_2 (\u001b[38;5;33mConv2D\u001b[0m)                │ (\u001b[38;5;45mNone\u001b[0m, \u001b[38;5;34m128\u001b[0m, \u001b[38;5;34m128\u001b[0m, \u001b[38;5;34m16\u001b[0m)   │         \u001b[38;5;34m2,320\u001b[0m │\n",
              "├─────────────────────────────────┼────────────────────────┼───────────────┤\n",
              "│ batch_normalization_1           │ (\u001b[38;5;45mNone\u001b[0m, \u001b[38;5;34m128\u001b[0m, \u001b[38;5;34m128\u001b[0m, \u001b[38;5;34m16\u001b[0m)   │            \u001b[38;5;34m64\u001b[0m │\n",
              "│ (\u001b[38;5;33mBatchNormalization\u001b[0m)            │                        │               │\n",
              "├─────────────────────────────────┼────────────────────────┼───────────────┤\n",
              "│ max_pooling2d (\u001b[38;5;33mMaxPooling2D\u001b[0m)    │ (\u001b[38;5;45mNone\u001b[0m, \u001b[38;5;34m64\u001b[0m, \u001b[38;5;34m64\u001b[0m, \u001b[38;5;34m16\u001b[0m)     │             \u001b[38;5;34m0\u001b[0m │\n",
              "├─────────────────────────────────┼────────────────────────┼───────────────┤\n",
              "│ dropout (\u001b[38;5;33mDropout\u001b[0m)               │ (\u001b[38;5;45mNone\u001b[0m, \u001b[38;5;34m64\u001b[0m, \u001b[38;5;34m64\u001b[0m, \u001b[38;5;34m16\u001b[0m)     │             \u001b[38;5;34m0\u001b[0m │\n",
              "├─────────────────────────────────┼────────────────────────┼───────────────┤\n",
              "│ conv2_1 (\u001b[38;5;33mConv2D\u001b[0m)                │ (\u001b[38;5;45mNone\u001b[0m, \u001b[38;5;34m64\u001b[0m, \u001b[38;5;34m64\u001b[0m, \u001b[38;5;34m32\u001b[0m)     │         \u001b[38;5;34m4,640\u001b[0m │\n",
              "├─────────────────────────────────┼────────────────────────┼───────────────┤\n",
              "│ batch_normalization_2           │ (\u001b[38;5;45mNone\u001b[0m, \u001b[38;5;34m64\u001b[0m, \u001b[38;5;34m64\u001b[0m, \u001b[38;5;34m32\u001b[0m)     │           \u001b[38;5;34m128\u001b[0m │\n",
              "│ (\u001b[38;5;33mBatchNormalization\u001b[0m)            │                        │               │\n",
              "├─────────────────────────────────┼────────────────────────┼───────────────┤\n",
              "│ conv2_2 (\u001b[38;5;33mConv2D\u001b[0m)                │ (\u001b[38;5;45mNone\u001b[0m, \u001b[38;5;34m64\u001b[0m, \u001b[38;5;34m64\u001b[0m, \u001b[38;5;34m32\u001b[0m)     │         \u001b[38;5;34m9,248\u001b[0m │\n",
              "├─────────────────────────────────┼────────────────────────┼───────────────┤\n",
              "│ batch_normalization_3           │ (\u001b[38;5;45mNone\u001b[0m, \u001b[38;5;34m64\u001b[0m, \u001b[38;5;34m64\u001b[0m, \u001b[38;5;34m32\u001b[0m)     │           \u001b[38;5;34m128\u001b[0m │\n",
              "│ (\u001b[38;5;33mBatchNormalization\u001b[0m)            │                        │               │\n",
              "├─────────────────────────────────┼────────────────────────┼───────────────┤\n",
              "│ max_pooling2d_1 (\u001b[38;5;33mMaxPooling2D\u001b[0m)  │ (\u001b[38;5;45mNone\u001b[0m, \u001b[38;5;34m32\u001b[0m, \u001b[38;5;34m32\u001b[0m, \u001b[38;5;34m32\u001b[0m)     │             \u001b[38;5;34m0\u001b[0m │\n",
              "├─────────────────────────────────┼────────────────────────┼───────────────┤\n",
              "│ dropout_1 (\u001b[38;5;33mDropout\u001b[0m)             │ (\u001b[38;5;45mNone\u001b[0m, \u001b[38;5;34m32\u001b[0m, \u001b[38;5;34m32\u001b[0m, \u001b[38;5;34m32\u001b[0m)     │             \u001b[38;5;34m0\u001b[0m │\n",
              "├─────────────────────────────────┼────────────────────────┼───────────────┤\n",
              "│ conv3_1 (\u001b[38;5;33mConv2D\u001b[0m)                │ (\u001b[38;5;45mNone\u001b[0m, \u001b[38;5;34m32\u001b[0m, \u001b[38;5;34m32\u001b[0m, \u001b[38;5;34m64\u001b[0m)     │        \u001b[38;5;34m18,496\u001b[0m │\n",
              "├─────────────────────────────────┼────────────────────────┼───────────────┤\n",
              "│ batch_normalization_4           │ (\u001b[38;5;45mNone\u001b[0m, \u001b[38;5;34m32\u001b[0m, \u001b[38;5;34m32\u001b[0m, \u001b[38;5;34m64\u001b[0m)     │           \u001b[38;5;34m256\u001b[0m │\n",
              "│ (\u001b[38;5;33mBatchNormalization\u001b[0m)            │                        │               │\n",
              "├─────────────────────────────────┼────────────────────────┼───────────────┤\n",
              "│ conv3_2 (\u001b[38;5;33mConv2D\u001b[0m)                │ (\u001b[38;5;45mNone\u001b[0m, \u001b[38;5;34m32\u001b[0m, \u001b[38;5;34m32\u001b[0m, \u001b[38;5;34m64\u001b[0m)     │        \u001b[38;5;34m36,928\u001b[0m │\n",
              "├─────────────────────────────────┼────────────────────────┼───────────────┤\n",
              "│ batch_normalization_5           │ (\u001b[38;5;45mNone\u001b[0m, \u001b[38;5;34m32\u001b[0m, \u001b[38;5;34m32\u001b[0m, \u001b[38;5;34m64\u001b[0m)     │           \u001b[38;5;34m256\u001b[0m │\n",
              "│ (\u001b[38;5;33mBatchNormalization\u001b[0m)            │                        │               │\n",
              "├─────────────────────────────────┼────────────────────────┼───────────────┤\n",
              "│ max_pooling2d_2 (\u001b[38;5;33mMaxPooling2D\u001b[0m)  │ (\u001b[38;5;45mNone\u001b[0m, \u001b[38;5;34m16\u001b[0m, \u001b[38;5;34m16\u001b[0m, \u001b[38;5;34m64\u001b[0m)     │             \u001b[38;5;34m0\u001b[0m │\n",
              "├─────────────────────────────────┼────────────────────────┼───────────────┤\n",
              "│ dropout_2 (\u001b[38;5;33mDropout\u001b[0m)             │ (\u001b[38;5;45mNone\u001b[0m, \u001b[38;5;34m16\u001b[0m, \u001b[38;5;34m16\u001b[0m, \u001b[38;5;34m64\u001b[0m)     │             \u001b[38;5;34m0\u001b[0m │\n",
              "├─────────────────────────────────┼────────────────────────┼───────────────┤\n",
              "│ flatten (\u001b[38;5;33mFlatten\u001b[0m)               │ (\u001b[38;5;45mNone\u001b[0m, \u001b[38;5;34m16384\u001b[0m)          │             \u001b[38;5;34m0\u001b[0m │\n",
              "├─────────────────────────────────┼────────────────────────┼───────────────┤\n",
              "│ dense (\u001b[38;5;33mDense\u001b[0m)                   │ (\u001b[38;5;45mNone\u001b[0m, \u001b[38;5;34m128\u001b[0m)            │     \u001b[38;5;34m2,097,280\u001b[0m │\n",
              "├─────────────────────────────────┼────────────────────────┼───────────────┤\n",
              "│ batch_normalization_6           │ (\u001b[38;5;45mNone\u001b[0m, \u001b[38;5;34m128\u001b[0m)            │           \u001b[38;5;34m512\u001b[0m │\n",
              "│ (\u001b[38;5;33mBatchNormalization\u001b[0m)            │                        │               │\n",
              "├─────────────────────────────────┼────────────────────────┼───────────────┤\n",
              "│ dropout_3 (\u001b[38;5;33mDropout\u001b[0m)             │ (\u001b[38;5;45mNone\u001b[0m, \u001b[38;5;34m128\u001b[0m)            │             \u001b[38;5;34m0\u001b[0m │\n",
              "├─────────────────────────────────┼────────────────────────┼───────────────┤\n",
              "│ dense_1 (\u001b[38;5;33mDense\u001b[0m)                 │ (\u001b[38;5;45mNone\u001b[0m, \u001b[38;5;34m14\u001b[0m)             │         \u001b[38;5;34m1,806\u001b[0m │\n",
              "└─────────────────────────────────┴────────────────────────┴───────────────┘\n"
            ],
            "text/html": [
              "<pre style=\"white-space:pre;overflow-x:auto;line-height:normal;font-family:Menlo,'DejaVu Sans Mono',consolas,'Courier New',monospace\">┏━━━━━━━━━━━━━━━━━━━━━━━━━━━━━━━━━┳━━━━━━━━━━━━━━━━━━━━━━━━┳━━━━━━━━━━━━━━━┓\n",
              "┃<span style=\"font-weight: bold\"> Layer (type)                    </span>┃<span style=\"font-weight: bold\"> Output Shape           </span>┃<span style=\"font-weight: bold\">       Param # </span>┃\n",
              "┡━━━━━━━━━━━━━━━━━━━━━━━━━━━━━━━━━╇━━━━━━━━━━━━━━━━━━━━━━━━╇━━━━━━━━━━━━━━━┩\n",
              "│ conv1_1 (<span style=\"color: #0087ff; text-decoration-color: #0087ff\">Conv2D</span>)                │ (<span style=\"color: #00d7ff; text-decoration-color: #00d7ff\">None</span>, <span style=\"color: #00af00; text-decoration-color: #00af00\">128</span>, <span style=\"color: #00af00; text-decoration-color: #00af00\">128</span>, <span style=\"color: #00af00; text-decoration-color: #00af00\">16</span>)   │           <span style=\"color: #00af00; text-decoration-color: #00af00\">448</span> │\n",
              "├─────────────────────────────────┼────────────────────────┼───────────────┤\n",
              "│ batch_normalization             │ (<span style=\"color: #00d7ff; text-decoration-color: #00d7ff\">None</span>, <span style=\"color: #00af00; text-decoration-color: #00af00\">128</span>, <span style=\"color: #00af00; text-decoration-color: #00af00\">128</span>, <span style=\"color: #00af00; text-decoration-color: #00af00\">16</span>)   │            <span style=\"color: #00af00; text-decoration-color: #00af00\">64</span> │\n",
              "│ (<span style=\"color: #0087ff; text-decoration-color: #0087ff\">BatchNormalization</span>)            │                        │               │\n",
              "├─────────────────────────────────┼────────────────────────┼───────────────┤\n",
              "│ conv1_2 (<span style=\"color: #0087ff; text-decoration-color: #0087ff\">Conv2D</span>)                │ (<span style=\"color: #00d7ff; text-decoration-color: #00d7ff\">None</span>, <span style=\"color: #00af00; text-decoration-color: #00af00\">128</span>, <span style=\"color: #00af00; text-decoration-color: #00af00\">128</span>, <span style=\"color: #00af00; text-decoration-color: #00af00\">16</span>)   │         <span style=\"color: #00af00; text-decoration-color: #00af00\">2,320</span> │\n",
              "├─────────────────────────────────┼────────────────────────┼───────────────┤\n",
              "│ batch_normalization_1           │ (<span style=\"color: #00d7ff; text-decoration-color: #00d7ff\">None</span>, <span style=\"color: #00af00; text-decoration-color: #00af00\">128</span>, <span style=\"color: #00af00; text-decoration-color: #00af00\">128</span>, <span style=\"color: #00af00; text-decoration-color: #00af00\">16</span>)   │            <span style=\"color: #00af00; text-decoration-color: #00af00\">64</span> │\n",
              "│ (<span style=\"color: #0087ff; text-decoration-color: #0087ff\">BatchNormalization</span>)            │                        │               │\n",
              "├─────────────────────────────────┼────────────────────────┼───────────────┤\n",
              "│ max_pooling2d (<span style=\"color: #0087ff; text-decoration-color: #0087ff\">MaxPooling2D</span>)    │ (<span style=\"color: #00d7ff; text-decoration-color: #00d7ff\">None</span>, <span style=\"color: #00af00; text-decoration-color: #00af00\">64</span>, <span style=\"color: #00af00; text-decoration-color: #00af00\">64</span>, <span style=\"color: #00af00; text-decoration-color: #00af00\">16</span>)     │             <span style=\"color: #00af00; text-decoration-color: #00af00\">0</span> │\n",
              "├─────────────────────────────────┼────────────────────────┼───────────────┤\n",
              "│ dropout (<span style=\"color: #0087ff; text-decoration-color: #0087ff\">Dropout</span>)               │ (<span style=\"color: #00d7ff; text-decoration-color: #00d7ff\">None</span>, <span style=\"color: #00af00; text-decoration-color: #00af00\">64</span>, <span style=\"color: #00af00; text-decoration-color: #00af00\">64</span>, <span style=\"color: #00af00; text-decoration-color: #00af00\">16</span>)     │             <span style=\"color: #00af00; text-decoration-color: #00af00\">0</span> │\n",
              "├─────────────────────────────────┼────────────────────────┼───────────────┤\n",
              "│ conv2_1 (<span style=\"color: #0087ff; text-decoration-color: #0087ff\">Conv2D</span>)                │ (<span style=\"color: #00d7ff; text-decoration-color: #00d7ff\">None</span>, <span style=\"color: #00af00; text-decoration-color: #00af00\">64</span>, <span style=\"color: #00af00; text-decoration-color: #00af00\">64</span>, <span style=\"color: #00af00; text-decoration-color: #00af00\">32</span>)     │         <span style=\"color: #00af00; text-decoration-color: #00af00\">4,640</span> │\n",
              "├─────────────────────────────────┼────────────────────────┼───────────────┤\n",
              "│ batch_normalization_2           │ (<span style=\"color: #00d7ff; text-decoration-color: #00d7ff\">None</span>, <span style=\"color: #00af00; text-decoration-color: #00af00\">64</span>, <span style=\"color: #00af00; text-decoration-color: #00af00\">64</span>, <span style=\"color: #00af00; text-decoration-color: #00af00\">32</span>)     │           <span style=\"color: #00af00; text-decoration-color: #00af00\">128</span> │\n",
              "│ (<span style=\"color: #0087ff; text-decoration-color: #0087ff\">BatchNormalization</span>)            │                        │               │\n",
              "├─────────────────────────────────┼────────────────────────┼───────────────┤\n",
              "│ conv2_2 (<span style=\"color: #0087ff; text-decoration-color: #0087ff\">Conv2D</span>)                │ (<span style=\"color: #00d7ff; text-decoration-color: #00d7ff\">None</span>, <span style=\"color: #00af00; text-decoration-color: #00af00\">64</span>, <span style=\"color: #00af00; text-decoration-color: #00af00\">64</span>, <span style=\"color: #00af00; text-decoration-color: #00af00\">32</span>)     │         <span style=\"color: #00af00; text-decoration-color: #00af00\">9,248</span> │\n",
              "├─────────────────────────────────┼────────────────────────┼───────────────┤\n",
              "│ batch_normalization_3           │ (<span style=\"color: #00d7ff; text-decoration-color: #00d7ff\">None</span>, <span style=\"color: #00af00; text-decoration-color: #00af00\">64</span>, <span style=\"color: #00af00; text-decoration-color: #00af00\">64</span>, <span style=\"color: #00af00; text-decoration-color: #00af00\">32</span>)     │           <span style=\"color: #00af00; text-decoration-color: #00af00\">128</span> │\n",
              "│ (<span style=\"color: #0087ff; text-decoration-color: #0087ff\">BatchNormalization</span>)            │                        │               │\n",
              "├─────────────────────────────────┼────────────────────────┼───────────────┤\n",
              "│ max_pooling2d_1 (<span style=\"color: #0087ff; text-decoration-color: #0087ff\">MaxPooling2D</span>)  │ (<span style=\"color: #00d7ff; text-decoration-color: #00d7ff\">None</span>, <span style=\"color: #00af00; text-decoration-color: #00af00\">32</span>, <span style=\"color: #00af00; text-decoration-color: #00af00\">32</span>, <span style=\"color: #00af00; text-decoration-color: #00af00\">32</span>)     │             <span style=\"color: #00af00; text-decoration-color: #00af00\">0</span> │\n",
              "├─────────────────────────────────┼────────────────────────┼───────────────┤\n",
              "│ dropout_1 (<span style=\"color: #0087ff; text-decoration-color: #0087ff\">Dropout</span>)             │ (<span style=\"color: #00d7ff; text-decoration-color: #00d7ff\">None</span>, <span style=\"color: #00af00; text-decoration-color: #00af00\">32</span>, <span style=\"color: #00af00; text-decoration-color: #00af00\">32</span>, <span style=\"color: #00af00; text-decoration-color: #00af00\">32</span>)     │             <span style=\"color: #00af00; text-decoration-color: #00af00\">0</span> │\n",
              "├─────────────────────────────────┼────────────────────────┼───────────────┤\n",
              "│ conv3_1 (<span style=\"color: #0087ff; text-decoration-color: #0087ff\">Conv2D</span>)                │ (<span style=\"color: #00d7ff; text-decoration-color: #00d7ff\">None</span>, <span style=\"color: #00af00; text-decoration-color: #00af00\">32</span>, <span style=\"color: #00af00; text-decoration-color: #00af00\">32</span>, <span style=\"color: #00af00; text-decoration-color: #00af00\">64</span>)     │        <span style=\"color: #00af00; text-decoration-color: #00af00\">18,496</span> │\n",
              "├─────────────────────────────────┼────────────────────────┼───────────────┤\n",
              "│ batch_normalization_4           │ (<span style=\"color: #00d7ff; text-decoration-color: #00d7ff\">None</span>, <span style=\"color: #00af00; text-decoration-color: #00af00\">32</span>, <span style=\"color: #00af00; text-decoration-color: #00af00\">32</span>, <span style=\"color: #00af00; text-decoration-color: #00af00\">64</span>)     │           <span style=\"color: #00af00; text-decoration-color: #00af00\">256</span> │\n",
              "│ (<span style=\"color: #0087ff; text-decoration-color: #0087ff\">BatchNormalization</span>)            │                        │               │\n",
              "├─────────────────────────────────┼────────────────────────┼───────────────┤\n",
              "│ conv3_2 (<span style=\"color: #0087ff; text-decoration-color: #0087ff\">Conv2D</span>)                │ (<span style=\"color: #00d7ff; text-decoration-color: #00d7ff\">None</span>, <span style=\"color: #00af00; text-decoration-color: #00af00\">32</span>, <span style=\"color: #00af00; text-decoration-color: #00af00\">32</span>, <span style=\"color: #00af00; text-decoration-color: #00af00\">64</span>)     │        <span style=\"color: #00af00; text-decoration-color: #00af00\">36,928</span> │\n",
              "├─────────────────────────────────┼────────────────────────┼───────────────┤\n",
              "│ batch_normalization_5           │ (<span style=\"color: #00d7ff; text-decoration-color: #00d7ff\">None</span>, <span style=\"color: #00af00; text-decoration-color: #00af00\">32</span>, <span style=\"color: #00af00; text-decoration-color: #00af00\">32</span>, <span style=\"color: #00af00; text-decoration-color: #00af00\">64</span>)     │           <span style=\"color: #00af00; text-decoration-color: #00af00\">256</span> │\n",
              "│ (<span style=\"color: #0087ff; text-decoration-color: #0087ff\">BatchNormalization</span>)            │                        │               │\n",
              "├─────────────────────────────────┼────────────────────────┼───────────────┤\n",
              "│ max_pooling2d_2 (<span style=\"color: #0087ff; text-decoration-color: #0087ff\">MaxPooling2D</span>)  │ (<span style=\"color: #00d7ff; text-decoration-color: #00d7ff\">None</span>, <span style=\"color: #00af00; text-decoration-color: #00af00\">16</span>, <span style=\"color: #00af00; text-decoration-color: #00af00\">16</span>, <span style=\"color: #00af00; text-decoration-color: #00af00\">64</span>)     │             <span style=\"color: #00af00; text-decoration-color: #00af00\">0</span> │\n",
              "├─────────────────────────────────┼────────────────────────┼───────────────┤\n",
              "│ dropout_2 (<span style=\"color: #0087ff; text-decoration-color: #0087ff\">Dropout</span>)             │ (<span style=\"color: #00d7ff; text-decoration-color: #00d7ff\">None</span>, <span style=\"color: #00af00; text-decoration-color: #00af00\">16</span>, <span style=\"color: #00af00; text-decoration-color: #00af00\">16</span>, <span style=\"color: #00af00; text-decoration-color: #00af00\">64</span>)     │             <span style=\"color: #00af00; text-decoration-color: #00af00\">0</span> │\n",
              "├─────────────────────────────────┼────────────────────────┼───────────────┤\n",
              "│ flatten (<span style=\"color: #0087ff; text-decoration-color: #0087ff\">Flatten</span>)               │ (<span style=\"color: #00d7ff; text-decoration-color: #00d7ff\">None</span>, <span style=\"color: #00af00; text-decoration-color: #00af00\">16384</span>)          │             <span style=\"color: #00af00; text-decoration-color: #00af00\">0</span> │\n",
              "├─────────────────────────────────┼────────────────────────┼───────────────┤\n",
              "│ dense (<span style=\"color: #0087ff; text-decoration-color: #0087ff\">Dense</span>)                   │ (<span style=\"color: #00d7ff; text-decoration-color: #00d7ff\">None</span>, <span style=\"color: #00af00; text-decoration-color: #00af00\">128</span>)            │     <span style=\"color: #00af00; text-decoration-color: #00af00\">2,097,280</span> │\n",
              "├─────────────────────────────────┼────────────────────────┼───────────────┤\n",
              "│ batch_normalization_6           │ (<span style=\"color: #00d7ff; text-decoration-color: #00d7ff\">None</span>, <span style=\"color: #00af00; text-decoration-color: #00af00\">128</span>)            │           <span style=\"color: #00af00; text-decoration-color: #00af00\">512</span> │\n",
              "│ (<span style=\"color: #0087ff; text-decoration-color: #0087ff\">BatchNormalization</span>)            │                        │               │\n",
              "├─────────────────────────────────┼────────────────────────┼───────────────┤\n",
              "│ dropout_3 (<span style=\"color: #0087ff; text-decoration-color: #0087ff\">Dropout</span>)             │ (<span style=\"color: #00d7ff; text-decoration-color: #00d7ff\">None</span>, <span style=\"color: #00af00; text-decoration-color: #00af00\">128</span>)            │             <span style=\"color: #00af00; text-decoration-color: #00af00\">0</span> │\n",
              "├─────────────────────────────────┼────────────────────────┼───────────────┤\n",
              "│ dense_1 (<span style=\"color: #0087ff; text-decoration-color: #0087ff\">Dense</span>)                 │ (<span style=\"color: #00d7ff; text-decoration-color: #00d7ff\">None</span>, <span style=\"color: #00af00; text-decoration-color: #00af00\">14</span>)             │         <span style=\"color: #00af00; text-decoration-color: #00af00\">1,806</span> │\n",
              "└─────────────────────────────────┴────────────────────────┴───────────────┘\n",
              "</pre>\n"
            ]
          },
          "metadata": {}
        },
        {
          "output_type": "display_data",
          "data": {
            "text/plain": [
              "\u001b[1m Total params: \u001b[0m\u001b[38;5;34m2,172,574\u001b[0m (8.29 MB)\n"
            ],
            "text/html": [
              "<pre style=\"white-space:pre;overflow-x:auto;line-height:normal;font-family:Menlo,'DejaVu Sans Mono',consolas,'Courier New',monospace\"><span style=\"font-weight: bold\"> Total params: </span><span style=\"color: #00af00; text-decoration-color: #00af00\">2,172,574</span> (8.29 MB)\n",
              "</pre>\n"
            ]
          },
          "metadata": {}
        },
        {
          "output_type": "display_data",
          "data": {
            "text/plain": [
              "\u001b[1m Trainable params: \u001b[0m\u001b[38;5;34m2,171,870\u001b[0m (8.29 MB)\n"
            ],
            "text/html": [
              "<pre style=\"white-space:pre;overflow-x:auto;line-height:normal;font-family:Menlo,'DejaVu Sans Mono',consolas,'Courier New',monospace\"><span style=\"font-weight: bold\"> Trainable params: </span><span style=\"color: #00af00; text-decoration-color: #00af00\">2,171,870</span> (8.29 MB)\n",
              "</pre>\n"
            ]
          },
          "metadata": {}
        },
        {
          "output_type": "display_data",
          "data": {
            "text/plain": [
              "\u001b[1m Non-trainable params: \u001b[0m\u001b[38;5;34m704\u001b[0m (2.75 KB)\n"
            ],
            "text/html": [
              "<pre style=\"white-space:pre;overflow-x:auto;line-height:normal;font-family:Menlo,'DejaVu Sans Mono',consolas,'Courier New',monospace\"><span style=\"font-weight: bold\"> Non-trainable params: </span><span style=\"color: #00af00; text-decoration-color: #00af00\">704</span> (2.75 KB)\n",
              "</pre>\n"
            ]
          },
          "metadata": {}
        },
        {
          "output_type": "stream",
          "name": "stdout",
          "text": [
            "\n",
            "Iniciando Treinamento...\n",
            "Epoch 1/25\n",
            "\u001b[1m 3/53\u001b[0m \u001b[32m━\u001b[0m\u001b[37m━━━━━━━━━━━━━━━━━━━\u001b[0m \u001b[1m3:25\u001b[0m 4s/step - accuracy: 0.0972 - loss: 3.5993"
          ]
        },
        {
          "output_type": "error",
          "ename": "KeyboardInterrupt",
          "evalue": "",
          "traceback": [
            "\u001b[0;31m---------------------------------------------------------------------------\u001b[0m",
            "\u001b[0;31mKeyboardInterrupt\u001b[0m                         Traceback (most recent call last)",
            "\u001b[0;32m/tmp/ipython-input-2709576682.py\u001b[0m in \u001b[0;36m<cell line: 0>\u001b[0;34m()\u001b[0m\n\u001b[1;32m    100\u001b[0m \u001b[0;31m# Treinamento do modelo\u001b[0m\u001b[0;34m\u001b[0m\u001b[0;34m\u001b[0m\u001b[0m\n\u001b[1;32m    101\u001b[0m \u001b[0mprint\u001b[0m\u001b[0;34m(\u001b[0m\u001b[0;34m\"\\nIniciando Treinamento...\"\u001b[0m\u001b[0;34m)\u001b[0m\u001b[0;34m\u001b[0m\u001b[0;34m\u001b[0m\u001b[0m\n\u001b[0;32m--> 102\u001b[0;31m history = model.fit(\n\u001b[0m\u001b[1;32m    103\u001b[0m     \u001b[0mtrain_images\u001b[0m\u001b[0;34m,\u001b[0m\u001b[0;34m\u001b[0m\u001b[0;34m\u001b[0m\u001b[0m\n\u001b[1;32m    104\u001b[0m     \u001b[0mtrain_labels_one_hot\u001b[0m\u001b[0;34m,\u001b[0m \u001b[0;31m# Usamos o vetor de rótulos codificados em One-Hot\u001b[0m\u001b[0;34m\u001b[0m\u001b[0;34m\u001b[0m\u001b[0m\n",
            "\u001b[0;32m/usr/local/lib/python3.12/dist-packages/keras/src/utils/traceback_utils.py\u001b[0m in \u001b[0;36merror_handler\u001b[0;34m(*args, **kwargs)\u001b[0m\n\u001b[1;32m    115\u001b[0m         \u001b[0mfiltered_tb\u001b[0m \u001b[0;34m=\u001b[0m \u001b[0;32mNone\u001b[0m\u001b[0;34m\u001b[0m\u001b[0;34m\u001b[0m\u001b[0m\n\u001b[1;32m    116\u001b[0m         \u001b[0;32mtry\u001b[0m\u001b[0;34m:\u001b[0m\u001b[0;34m\u001b[0m\u001b[0;34m\u001b[0m\u001b[0m\n\u001b[0;32m--> 117\u001b[0;31m             \u001b[0;32mreturn\u001b[0m \u001b[0mfn\u001b[0m\u001b[0;34m(\u001b[0m\u001b[0;34m*\u001b[0m\u001b[0margs\u001b[0m\u001b[0;34m,\u001b[0m \u001b[0;34m**\u001b[0m\u001b[0mkwargs\u001b[0m\u001b[0;34m)\u001b[0m\u001b[0;34m\u001b[0m\u001b[0;34m\u001b[0m\u001b[0m\n\u001b[0m\u001b[1;32m    118\u001b[0m         \u001b[0;32mexcept\u001b[0m \u001b[0mException\u001b[0m \u001b[0;32mas\u001b[0m \u001b[0me\u001b[0m\u001b[0;34m:\u001b[0m\u001b[0;34m\u001b[0m\u001b[0;34m\u001b[0m\u001b[0m\n\u001b[1;32m    119\u001b[0m             \u001b[0mfiltered_tb\u001b[0m \u001b[0;34m=\u001b[0m \u001b[0m_process_traceback_frames\u001b[0m\u001b[0;34m(\u001b[0m\u001b[0me\u001b[0m\u001b[0;34m.\u001b[0m\u001b[0m__traceback__\u001b[0m\u001b[0;34m)\u001b[0m\u001b[0;34m\u001b[0m\u001b[0;34m\u001b[0m\u001b[0m\n",
            "\u001b[0;32m/usr/local/lib/python3.12/dist-packages/keras/src/backend/torch/trainer.py\u001b[0m in \u001b[0;36mfit\u001b[0;34m(self, x, y, batch_size, epochs, verbose, callbacks, validation_split, validation_data, shuffle, class_weight, sample_weight, initial_epoch, steps_per_epoch, validation_steps, validation_batch_size, validation_freq)\u001b[0m\n\u001b[1;32m    261\u001b[0m                 \u001b[0mcallbacks\u001b[0m\u001b[0;34m.\u001b[0m\u001b[0mon_train_batch_begin\u001b[0m\u001b[0;34m(\u001b[0m\u001b[0mstep\u001b[0m\u001b[0;34m)\u001b[0m\u001b[0;34m\u001b[0m\u001b[0;34m\u001b[0m\u001b[0m\n\u001b[1;32m    262\u001b[0m \u001b[0;34m\u001b[0m\u001b[0m\n\u001b[0;32m--> 263\u001b[0;31m                 \u001b[0mlogs\u001b[0m \u001b[0;34m=\u001b[0m \u001b[0mself\u001b[0m\u001b[0;34m.\u001b[0m\u001b[0mtrain_function\u001b[0m\u001b[0;34m(\u001b[0m\u001b[0mdata\u001b[0m\u001b[0;34m)\u001b[0m\u001b[0;34m\u001b[0m\u001b[0;34m\u001b[0m\u001b[0m\n\u001b[0m\u001b[1;32m    264\u001b[0m \u001b[0;34m\u001b[0m\u001b[0m\n\u001b[1;32m    265\u001b[0m                 \u001b[0;31m# Callbacks\u001b[0m\u001b[0;34m\u001b[0m\u001b[0;34m\u001b[0m\u001b[0m\n",
            "\u001b[0;32m/usr/local/lib/python3.12/dist-packages/keras/src/backend/torch/trainer.py\u001b[0m in \u001b[0;36mone_step_on_data\u001b[0;34m(data)\u001b[0m\n\u001b[1;32m    116\u001b[0m             \u001b[0;34m\"\"\"Runs a single training step on a batch of data.\"\"\"\u001b[0m\u001b[0;34m\u001b[0m\u001b[0;34m\u001b[0m\u001b[0m\n\u001b[1;32m    117\u001b[0m             \u001b[0mdata\u001b[0m \u001b[0;34m=\u001b[0m \u001b[0mdata\u001b[0m\u001b[0;34m[\u001b[0m\u001b[0;36m0\u001b[0m\u001b[0;34m]\u001b[0m\u001b[0;34m\u001b[0m\u001b[0;34m\u001b[0m\u001b[0m\n\u001b[0;32m--> 118\u001b[0;31m             \u001b[0;32mreturn\u001b[0m \u001b[0mself\u001b[0m\u001b[0;34m.\u001b[0m\u001b[0mtrain_step\u001b[0m\u001b[0;34m(\u001b[0m\u001b[0mdata\u001b[0m\u001b[0;34m)\u001b[0m\u001b[0;34m\u001b[0m\u001b[0;34m\u001b[0m\u001b[0m\n\u001b[0m\u001b[1;32m    119\u001b[0m \u001b[0;34m\u001b[0m\u001b[0m\n\u001b[1;32m    120\u001b[0m         \u001b[0;32mif\u001b[0m \u001b[0mself\u001b[0m\u001b[0;34m.\u001b[0m\u001b[0m_should_torch_compile\u001b[0m\u001b[0;34m(\u001b[0m\u001b[0;34m)\u001b[0m\u001b[0;34m:\u001b[0m\u001b[0;34m\u001b[0m\u001b[0;34m\u001b[0m\u001b[0m\n",
            "\u001b[0;32m/usr/local/lib/python3.12/dist-packages/keras/src/backend/torch/trainer.py\u001b[0m in \u001b[0;36mtrain_step\u001b[0;34m(self, data)\u001b[0m\n\u001b[1;32m     64\u001b[0m             \u001b[0;31m# Call torch.Tensor.backward() on the loss to compute gradients\u001b[0m\u001b[0;34m\u001b[0m\u001b[0;34m\u001b[0m\u001b[0m\n\u001b[1;32m     65\u001b[0m             \u001b[0;31m# for the weights.\u001b[0m\u001b[0;34m\u001b[0m\u001b[0;34m\u001b[0m\u001b[0m\n\u001b[0;32m---> 66\u001b[0;31m             \u001b[0mloss\u001b[0m\u001b[0;34m.\u001b[0m\u001b[0mbackward\u001b[0m\u001b[0;34m(\u001b[0m\u001b[0;34m)\u001b[0m\u001b[0;34m\u001b[0m\u001b[0;34m\u001b[0m\u001b[0m\n\u001b[0m\u001b[1;32m     67\u001b[0m \u001b[0;34m\u001b[0m\u001b[0m\n\u001b[1;32m     68\u001b[0m             \u001b[0mtrainable_weights\u001b[0m \u001b[0;34m=\u001b[0m \u001b[0mself\u001b[0m\u001b[0;34m.\u001b[0m\u001b[0mtrainable_weights\u001b[0m\u001b[0;34m[\u001b[0m\u001b[0;34m:\u001b[0m\u001b[0;34m]\u001b[0m\u001b[0;34m\u001b[0m\u001b[0;34m\u001b[0m\u001b[0m\n",
            "\u001b[0;32m/usr/local/lib/python3.12/dist-packages/torch/_tensor.py\u001b[0m in \u001b[0;36mbackward\u001b[0;34m(self, gradient, retain_graph, create_graph, inputs)\u001b[0m\n\u001b[1;32m    645\u001b[0m                 \u001b[0minputs\u001b[0m\u001b[0;34m=\u001b[0m\u001b[0minputs\u001b[0m\u001b[0;34m,\u001b[0m\u001b[0;34m\u001b[0m\u001b[0;34m\u001b[0m\u001b[0m\n\u001b[1;32m    646\u001b[0m             )\n\u001b[0;32m--> 647\u001b[0;31m         torch.autograd.backward(\n\u001b[0m\u001b[1;32m    648\u001b[0m             \u001b[0mself\u001b[0m\u001b[0;34m,\u001b[0m \u001b[0mgradient\u001b[0m\u001b[0;34m,\u001b[0m \u001b[0mretain_graph\u001b[0m\u001b[0;34m,\u001b[0m \u001b[0mcreate_graph\u001b[0m\u001b[0;34m,\u001b[0m \u001b[0minputs\u001b[0m\u001b[0;34m=\u001b[0m\u001b[0minputs\u001b[0m\u001b[0;34m\u001b[0m\u001b[0;34m\u001b[0m\u001b[0m\n\u001b[1;32m    649\u001b[0m         )\n",
            "\u001b[0;32m/usr/local/lib/python3.12/dist-packages/torch/autograd/__init__.py\u001b[0m in \u001b[0;36mbackward\u001b[0;34m(tensors, grad_tensors, retain_graph, create_graph, grad_variables, inputs)\u001b[0m\n\u001b[1;32m    352\u001b[0m     \u001b[0;31m# some Python versions print out the first line of a multi-line function\u001b[0m\u001b[0;34m\u001b[0m\u001b[0;34m\u001b[0m\u001b[0m\n\u001b[1;32m    353\u001b[0m     \u001b[0;31m# calls in the traceback and some print out the last line\u001b[0m\u001b[0;34m\u001b[0m\u001b[0;34m\u001b[0m\u001b[0m\n\u001b[0;32m--> 354\u001b[0;31m     _engine_run_backward(\n\u001b[0m\u001b[1;32m    355\u001b[0m         \u001b[0mtensors\u001b[0m\u001b[0;34m,\u001b[0m\u001b[0;34m\u001b[0m\u001b[0;34m\u001b[0m\u001b[0m\n\u001b[1;32m    356\u001b[0m         \u001b[0mgrad_tensors_\u001b[0m\u001b[0;34m,\u001b[0m\u001b[0;34m\u001b[0m\u001b[0;34m\u001b[0m\u001b[0m\n",
            "\u001b[0;32m/usr/local/lib/python3.12/dist-packages/torch/autograd/graph.py\u001b[0m in \u001b[0;36m_engine_run_backward\u001b[0;34m(t_outputs, *args, **kwargs)\u001b[0m\n\u001b[1;32m    827\u001b[0m         \u001b[0munregister_hooks\u001b[0m \u001b[0;34m=\u001b[0m \u001b[0m_register_logging_hooks_on_whole_graph\u001b[0m\u001b[0;34m(\u001b[0m\u001b[0mt_outputs\u001b[0m\u001b[0;34m)\u001b[0m\u001b[0;34m\u001b[0m\u001b[0;34m\u001b[0m\u001b[0m\n\u001b[1;32m    828\u001b[0m     \u001b[0;32mtry\u001b[0m\u001b[0;34m:\u001b[0m\u001b[0;34m\u001b[0m\u001b[0;34m\u001b[0m\u001b[0m\n\u001b[0;32m--> 829\u001b[0;31m         return Variable._execution_engine.run_backward(  # Calls into the C++ engine to run the backward pass\n\u001b[0m\u001b[1;32m    830\u001b[0m             \u001b[0mt_outputs\u001b[0m\u001b[0;34m,\u001b[0m \u001b[0;34m*\u001b[0m\u001b[0margs\u001b[0m\u001b[0;34m,\u001b[0m \u001b[0;34m**\u001b[0m\u001b[0mkwargs\u001b[0m\u001b[0;34m\u001b[0m\u001b[0;34m\u001b[0m\u001b[0m\n\u001b[1;32m    831\u001b[0m         )  # Calls into the C++ engine to run the backward pass\n",
            "\u001b[0;31mKeyboardInterrupt\u001b[0m: "
          ]
        }
      ]
    },
    {
      "cell_type": "markdown",
      "source": [
        "### 6.4.5 Plots"
      ],
      "metadata": {
        "id": "7fL7zlZvHXle"
      },
      "id": "7fL7zlZvHXle"
    },
    {
      "cell_type": "code",
      "source": [
        "plt.figure(figsize=[6,4])\n",
        "plt.plot(history.history['loss'], 'black', linewidth=2.0)\n",
        "plt.plot(history.history['val_loss'], 'green', linewidth=2.0)\n",
        "plt.legend(['Perda do treino', 'Perda da validação'], fontsize=14)\n",
        "plt.xlabel('Épocas', fontsize=10)\n",
        "plt.ylabel('Perda', fontsize=10)\n",
        "plt.title('Curvas de perda', fontsize=12)\n",
        "\n",
        "# Curva de acurácia\n",
        "plt.figure(figsize=[6,4])\n",
        "plt.plot(history.history['accuracy'], 'black', linewidth=2.0)\n",
        "plt.plot(history.history['val_accuracy'], 'blue', linewidth=2.0)\n",
        "plt.legend(['Acurácia do treino', 'Acurácia da validação'], fontsize=14)\n",
        "plt.xlabel('Épocas', fontsize=10)\n",
        "plt.ylabel('Acurácia', fontsize=10)\n",
        "plt.title('Curva de acurácia', fontsize=12)\n",
        "\n",
        "# Mostrando o verdadeiro vs. Resultado previsto\n",
        "\n",
        "# Gera a matriz de confusão\n",
        "\n",
        "# Calcular e exibir a matriz de confusão\n",
        "cm_cifar = confusion_matrix(np.argmax(test_labels, axis=1), pred_classes)\n",
        "disp_cifar = ConfusionMatrixDisplay(confusion_matrix=cm_cifar, display_labels=class_names)\n",
        "\n",
        "# Usamos um tamanho de figura maior e rotação nos rótulos para melhor visualização\n",
        "fig, ax = plt.subplots(figsize=(10, 10))\n",
        "disp_cifar.plot(ax=ax, cmap=plt.cm.Blues)\n",
        "plt.title(\"Matriz de Confusão - CIFAR-10\")\n",
        "plt.xticks(rotation=45)\n",
        "plt.show()"
      ],
      "metadata": {
        "id": "Qiu8MwGWTk82"
      },
      "id": "Qiu8MwGWTk82",
      "execution_count": null,
      "outputs": []
    },
    {
      "cell_type": "code",
      "source": [
        "\"\"\"best_model = models.load_model(\"/content/modelos/melhor_modelo_vgg_style_l2_1_88.64.keras\")\"\"\""
      ],
      "metadata": {
        "id": "3-14DgYURyOu"
      },
      "id": "3-14DgYURyOu",
      "execution_count": null,
      "outputs": []
    },
    {
      "cell_type": "code",
      "source": [
        "\"\"\"import matplotlib.pyplot as plt\n",
        "import seaborn as sns\n",
        "import numpy as np\n",
        "from sklearn.metrics import confusion_matrix, classification_report\n",
        "\n",
        "# ==============================================================================\n",
        "# 1. FUNÇÃO PARA PLOTAR AS CURVAS DE TREINAMENTO\n",
        "# ==============================================================================\n",
        "\n",
        "def plot_history(history):\n",
        "\n",
        "    fig, (ax1, ax2) = plt.subplots(1, 2, figsize=(16, 6))\n",
        "\n",
        "    # Gráfico de Acurácia\n",
        "    ax1.plot(history.history['accuracy'], label='Acurácia de Treino')\n",
        "    ax1.plot(history.history['val_accuracy'], label='Acurácia de Validação')\n",
        "    ax1.set_title('Acurácia do Modelo', fontsize=16)\n",
        "    ax1.set_xlabel('Época', fontsize=12)\n",
        "    ax1.set_ylabel('Acurácia', fontsize=12)\n",
        "    ax1.legend(loc='lower right')\n",
        "    ax1.grid(True)\n",
        "\n",
        "    # Gráfico de Loss (Perda)\n",
        "    ax2.plot(history.history['loss'], label='Loss de Treino')\n",
        "    ax2.plot(history.history['val_loss'], label='Loss de Validação')\n",
        "    ax2.set_title('Loss (Perda) do Modelo', fontsize=16)\n",
        "    ax2.set_xlabel('Época', fontsize=12)\n",
        "    ax2.set_ylabel('Loss', fontsize=12)\n",
        "    ax2.legend(loc='upper right')\n",
        "    ax2.grid(True)\n",
        "\n",
        "    plt.tight_layout()\n",
        "    plt.show()\n",
        "\n",
        "# ==============================================================================\n",
        "# 2. ANÁLISE NO CONJUNTO DE TESTE (MATRIZ DE CONFUSÃO E RELATÓRIO)\n",
        "# ==============================================================================\n",
        "\n",
        "print(\"\\nGerando previsões para o conjunto de teste...\")\n",
        "# Faz as previsões (retorna as probabilidades de cada classe)\n",
        "y_pred_probs = best_model.predict(test_images)\n",
        "\n",
        "# Converte as probabilidades para a classe com maior probabilidade\n",
        "y_pred_classes = np.argmax(y_pred_probs, axis=1)\n",
        "\n",
        "# Se os seus test_labels estiverem no formato one-hot, converta-os de volta.\n",
        "# Se já estiverem como inteiros (0, 1, 2...), pode usar diretamente.\n",
        "# Supondo que você tenha a variável `test_labels` original:\n",
        "y_true = test_labels\n",
        "\n",
        "# --- Relatório de Classificação ---\n",
        "print(\"\\n# ========================================= #\")\n",
        "print(\"#      RELATÓRIO DE CLASSIFICAÇÃO       #\")\n",
        "print(\"# ========================================= #\\n\")\n",
        "print(classification_report(y_true, y_pred_classes, target_names=CLASS_NAMES))\n",
        "\n",
        "\n",
        "# --- Matriz de Confusão ---\n",
        "print(\"\\nGerando a Matriz de Confusão...\")\n",
        "conf_matrix = confusion_matrix(y_true, y_pred_classes)\n",
        "\n",
        "plt.figure(figsize=(14, 12))\n",
        "sns.heatmap(conf_matrix, annot=True, fmt='g', cmap='Blues',\n",
        "            xticklabels=CLASS_NAMES, yticklabels=CLASS_NAMES)\n",
        "\n",
        "plt.title('Matriz de Confusão', fontsize=20)\n",
        "plt.ylabel('Classe Verdadeira', fontsize=15)\n",
        "plt.xlabel('Classe Prevista', fontsize=15)\n",
        "plt.xticks(rotation=45, ha='right')\n",
        "plt.yticks(rotation=0)\n",
        "plt.tight_layout() # Ajusta o plot para caber tudo\n",
        "plt.show()\n",
        "\n",
        "\n",
        "# ==============================================================================\n",
        "# CHAMADA DAS FUNÇÕES\n",
        "# ==============================================================================\n",
        "# Plota os gráficos de acurácia e loss\n",
        "plot_history(history)\"\"\""
      ],
      "metadata": {
        "id": "Q9zRP_OJR5nQ"
      },
      "id": "Q9zRP_OJR5nQ",
      "execution_count": null,
      "outputs": []
    },
    {
      "cell_type": "markdown",
      "source": [
        "## 6.5 Transfer learning"
      ],
      "metadata": {
        "id": "QTg2n8lFGRRW"
      },
      "id": "QTg2n8lFGRRW"
    },
    {
      "cell_type": "markdown",
      "source": [
        "\n",
        "\n",
        "A técnica de transfer learning visa reestruturar a última camada da CNN. O objetivo é utilizar uma rede já criada e treinada como ponto de partida para a resolução de um problema. Para isso, uma rede de detecção de animais será utilizada, com várias espécies de animais, totalizando XXX possíveis saídas. Após isso, a última camada dessa rede será removida e treinada para a detecção apenas do desejado. A técnica de transfer learning é muito útil para datasets maiores já treinados, uma vez que somente a última camada precisa ser refeita."
      ],
      "metadata": {
        "id": "U15anDOYF73-"
      },
      "id": "U15anDOYF73-"
    },
    {
      "cell_type": "markdown",
      "source": [
        "### 6.5.1 Imports"
      ],
      "metadata": {
        "id": "pSLnMcdNTfIh"
      },
      "id": "pSLnMcdNTfIh"
    },
    {
      "cell_type": "code",
      "source": [
        "import tensorflow as tf\n",
        "from tensorflow.keras.applications import ResNet50\n",
        "from tensorflow.keras.models import Sequential\n",
        "from tensorflow.keras.layers import Dense, GlobalAveragePooling2D\n",
        "from tensorflow.keras.preprocessing.image import ImageDataGenerator\n",
        "import os\n",
        "from pathlib import Path\n",
        "from fastai.vision.all import *\n",
        "import timm"
      ],
      "metadata": {
        "id": "nlmFEkSfTbaQ"
      },
      "id": "nlmFEkSfTbaQ",
      "execution_count": null,
      "outputs": []
    },
    {
      "cell_type": "code",
      "source": [
        "\"\"\"# TRANSFER LEARNING COM RESNET50\n",
        "# Dataset separado em pastas: train / test\n",
        "# ==========================================\n",
        "\n",
        "# Caminhos do dataset\n",
        "train_dir = \"/content/datasets/train_images\"\n",
        "test_dir  = \"/content/datasets/test_images\"\n",
        "\n",
        "# ================================\n",
        "# 1. Geradores de dados\n",
        "# ================================\n",
        "train_datagen = ImageDataGenerator(rescale=1./255)\n",
        "test_datagen  = ImageDataGenerator(rescale=1./255)\n",
        "\n",
        "train_gen = train_datagen.flow_from_directory(\n",
        "    train_dir,\n",
        "    target_size=(128, 128),\n",
        "    batch_size=32,\n",
        "    class_mode='categorical',\n",
        "    shuffle=True\n",
        ")\n",
        "\n",
        "test_gen = test_datagen.flow_from_directory(\n",
        "    test_dir,\n",
        "    target_size=(128, 128),\n",
        "    batch_size=32,\n",
        "    class_mode='categorical',\n",
        "    shuffle=False\n",
        ")\n",
        "\n",
        "# ================================\n",
        "# 2. Modelo base ResNet50\n",
        "# ================================\n",
        "base_model = ResNet50(weights='imagenet', include_top=False, input_shape=(128, 128, 3))\n",
        "\n",
        "# Congela as camadas da base (não treina elas)\n",
        "for layer in base_model.layers:\n",
        "    layer.trainable = False\n",
        "\n",
        "# Número de classes detectadas automaticamente\n",
        "num_classes = len(train_gen.class_indices)\n",
        "\n",
        "# Cria o modelo final\n",
        "model = Sequential([\n",
        "    base_model,\n",
        "    GlobalAveragePooling2D(),\n",
        "    Dense(128, activation='relu'),\n",
        "    Dense(num_classes, activation='softmax')\n",
        "])\n",
        "\n",
        "# ================================\n",
        "# 3. Compilação e treino\n",
        "# ================================\n",
        "model.compile(optimizer='adam',\n",
        "              loss='categorical_crossentropy',\n",
        "              metrics=['accuracy'])\n",
        "\n",
        "history = model.fit(\n",
        "    train_gen,\n",
        "    validation_data=test_gen,\n",
        "    epochs=100,\n",
        "    batch_size=32\n",
        ")\n",
        "\n",
        "# ================================\n",
        "# 4. Avaliação e salvamento\n",
        "# ================================\n",
        "loss, acc = model.evaluate(test_gen)\n",
        "print(f\"\\n✅ Acurácia final no conjunto de teste: {acc*100:.2f}%\")\n",
        "\n",
        "# Mostra classes detectadas\n",
        "print(\"\\nClasses detectadas:\", list(train_gen.class_indices.keys()))\n",
        "\n",
        "# Salva o modeloa\n",
        "model.save(\"/content/modelo_resnet50_transfer.h5\")\n",
        "print(\"\\n💾 Modelo salvo em /content/modelo_resnet50_transfer.h5\")\"\"\""
      ],
      "metadata": {
        "id": "FS_-goWtR9BQ"
      },
      "id": "FS_-goWtR9BQ",
      "execution_count": null,
      "outputs": []
    },
    {
      "cell_type": "code",
      "source": [
        "# =========================\n",
        "# 1) Caminhos e parâmetros\n",
        "# =========================\n",
        "BASE_PATH = Path('./datasets')\n",
        "train_dir_name = 'train_images'\n",
        "test_dir_name = 'test_images'\n",
        "\n",
        "# ** AQUI ESTÁ A CORREÇÃO FINAL **\n",
        "IMG_SIZE = 224 # Ajustado para corresponder ao modelo ViT\n",
        "BATCH_SIZE = 64 # Se tiver erro de memória (CUDA out of memory), reduza para 32 ou 16\n",
        "LEARNING_RATE = 2e-3\n",
        "EPOCHS = 100\n",
        "\n",
        "# =========================\n",
        "# 2) Datasets\n",
        "# =========================\n",
        "dls = ImageDataLoaders.from_folder(\n",
        "    BASE_PATH,\n",
        "    train=train_dir_name,\n",
        "    valid=test_dir_name,\n",
        "    item_tfms=Resize(IMG_SIZE), # Agora vai redimensionar para 224x224\n",
        "    batch_tfms=aug_transforms(),\n",
        "    bs=BATCH_SIZE\n",
        ")\n",
        "\n",
        "num_classes = len(dls.vocab)\n",
        "print(f\"Classes detectadas ({num_classes}): {dls.vocab}\")\n",
        "dls.show_batch(max_n=9, figsize=(7,8))\n",
        "\n",
        "# =========================\n",
        "# 3) Modelo\n",
        "# =========================\n",
        "learn = vision_learner(\n",
        "    dls,\n",
        "    'vit_small_patch16_224',\n",
        "    metrics=[accuracy, error_rate]\n",
        ")\n",
        "\n",
        "# =========================\n",
        "# 4) Callbacks\n",
        "# =========================\n",
        "callbacks = [\n",
        "    EarlyStoppingCallback(\n",
        "        monitor='accuracy',\n",
        "        patience=10,\n",
        "        min_delta=0.001\n",
        "    ),\n",
        "    SaveModelCallback(\n",
        "        monitor='accuracy',\n",
        "        fname='best_model_vit'\n",
        "    )\n",
        "]\n",
        "\n",
        "# =========================\n",
        "# 5) Treino\n",
        "# =========================\n",
        "print(\"Iniciando treinamento com Vision Transformer...\")\n",
        "learn.fit_one_cycle(\n",
        "    EPOCHS,\n",
        "    lr_max=LEARNING_RATE,\n",
        "    cbs=callbacks\n",
        ")\n",
        "\n",
        "# =========================\n",
        "# 6) Avaliação e salvamento\n",
        "# =========================\n",
        "print(\"\\nAnalisando resultados...\")\n",
        "interp = ClassificationInterpretation.from_learner(learn)\n",
        "interp.plot_confusion_matrix(figsize=(8,8), dpi=60)\n",
        "interp.plot_top_losses(9, nrows=3)\n",
        "\n",
        "final_model_path = \"/content/modelos/modelo_vit_99_val_transfer_learn.pkl\"\n",
        "learn.export(final_model_path)\n",
        "\n",
        "print(f\"\\n✅ Treinamento concluído.\")\n",
        "print(f\"💾 O melhor modelo durante o treino foi salvo em: {learn.path/learn.model_dir}/best_model_vit.pth\")\n",
        "print(f\"💾 Modelo final para inferência salvo em: {final_model_path}\")"
      ],
      "metadata": {
        "id": "tYl4XS9iSDKd"
      },
      "id": "tYl4XS9iSDKd",
      "execution_count": null,
      "outputs": []
    },
    {
      "cell_type": "code",
      "source": [
        "# =======================================================\n",
        "# 6.1) EXIBIR A ACURÁCIA DE VALIDAÇÃO FINAL (NOVO CÓDIGO)\n",
        "# =======================================================\n",
        "# O EarlyStoppingCallback já restaurou o melhor modelo.\n",
        "# Agora, vamos rodar `validate()` para ver as métricas exatas desse melhor modelo.\n",
        "print(\"\\nCalculando métricas finais do melhor modelo no conjunto de validação...\")\n",
        "final_metrics = learn.validate()\n",
        "\n",
        "# A ordem das métricas em `final_metrics` é: [valid_loss, accuracy, error_rate]\n",
        "# Pegamos o segundo item (índice 1) que é a acurácia.\n",
        "final_accuracy = final_metrics[1]\n",
        "print(f\"\\n{'='*30}\")\n",
        "print(f\"  Acurácia Final de Validação: {final_accuracy*100:.4f}%\")\n",
        "print(f\"{'='*30}\\n\")\n",
        "\n",
        "\n",
        "# =========================\n",
        "# 6.2) Salvamento do modelo\n",
        "# =========================\n",
        "final_model_path = \"/content/modelos/modelo_vit_99_val_transfer_learn.pkl\"\n",
        "learn.export(final_model_path)\n",
        "\n",
        "print(f\"✅ Treinamento concluído.\")\n",
        "print(f\"💾 O melhor modelo durante o treino foi salvo em: {learn.path/learn.model_dir}/best_model_vit.pth\")\n",
        "print(f\"💾 Modelo final para inferência salvo em: {final_model_path}\")"
      ],
      "metadata": {
        "id": "U5YHH67pSf85"
      },
      "id": "U5YHH67pSf85",
      "execution_count": null,
      "outputs": []
    },
    {
      "cell_type": "markdown",
      "source": [
        "## 6.6 Fine-Tunning"
      ],
      "metadata": {
        "id": "D_K9T2ewSzjQ"
      },
      "id": "D_K9T2ewSzjQ"
    },
    {
      "cell_type": "markdown",
      "source": [
        "### 6.6.1 Imports"
      ],
      "metadata": {
        "id": "lg0HRQSnS76o"
      },
      "id": "lg0HRQSnS76o"
    },
    {
      "cell_type": "code",
      "source": [
        "import os\n",
        "from pathlib import Path\n",
        "from fastai.vision.all import *\n",
        "import timm"
      ],
      "metadata": {
        "id": "IVRkAm5KTwLo"
      },
      "id": "IVRkAm5KTwLo",
      "execution_count": null,
      "outputs": []
    },
    {
      "cell_type": "code",
      "source": [
        "learn.export(\"./modelo_vit.pkl\")"
      ],
      "metadata": {
        "id": "DhRUc0YqS8hI"
      },
      "id": "DhRUc0YqS8hI",
      "execution_count": null,
      "outputs": []
    },
    {
      "cell_type": "code",
      "source": [
        "# =========================\n",
        "# 1) Caminhos e parâmetros\n",
        "# =========================\n",
        "BASE_PATH = Path('./datasets')\n",
        "train_dir_name = 'train_images'\n",
        "test_dir_name = 'test_images'\n",
        "\n",
        "IMG_SIZE = 224\n",
        "BATCH_SIZE = 64\n",
        "# NOTA: Para o fine_tune, a taxa de aprendizado da cabeça pode ser diferente\n",
        "# da taxa de aprendizado do corpo. Vamos manter essa para a cabeça.\n",
        "HEAD_LEARNING_RATE = 2e-3\n",
        "EPOCHS = 150 # Um número razoável de épocas para o fine-tuning. EarlyStopping vai cuidar do resto.\n",
        "\n",
        "# =========================\n",
        "# 2) Datasets\n",
        "# =========================\n",
        "dls = ImageDataLoaders.from_folder(\n",
        "    BASE_PATH,\n",
        "    train=train_dir_name,\n",
        "    valid=test_dir_name,\n",
        "    item_tfms=Resize(IMG_SIZE),\n",
        "    batch_tfms=aug_transforms(),\n",
        "    bs=BATCH_SIZE\n",
        ")\n",
        "\n",
        "num_classes = len(dls.vocab)\n",
        "print(f\"Classes detectadas ({num_classes}): {dls.vocab}\")\n",
        "dls.show_batch(max_n=9, figsize=(7,8))\n",
        "\n",
        "# =========================\n",
        "# 3) Modelo\n",
        "# =========================\n",
        "learn = vision_learner(\n",
        "    dls,\n",
        "    resnet50,\n",
        "    metrics=[accuracy, error_rate],\n",
        "    # Definimos o learning rate padrão para o otimizador\n",
        "    lr=HEAD_LEARNING_RATE\n",
        ")\n",
        "\n",
        "# =========================\n",
        "# 4) Callbacks\n",
        "# =========================\n",
        "callbacks = [\n",
        "    EarlyStoppingCallback(\n",
        "        monitor='accuracy',\n",
        "        patience=10,\n",
        "        min_delta=0.001\n",
        "    ),\n",
        "    SaveModelCallback(\n",
        "        monitor='accuracy',\n",
        "        fname='best_model_resnet50_finetuned' # Novo nome para o modelo com fine-tuning\n",
        "    )\n",
        "]\n",
        "\n",
        "# =======================================================\n",
        "# 5) Treino com FINE-TUNING (A GRANDE MUDANÇA ESTÁ AQUI)\n",
        "# =======================================================\n",
        "print(\"Iniciando treinamento com ResNet50 e Fine-Tuning...\")\n",
        "\n",
        "# Dica: Antes de rodar o fine_tune, é uma boa prática rodar o buscador de taxa de aprendizado\n",
        "# learn.lr_find()\n",
        "# Isso te ajudaria a escolher o melhor `base_lr`. Vamos usar um valor seguro.\n",
        "BASE_LR_BODY = 1e-4 # Taxa de aprendizado para o corpo do modelo (mais baixa)\n",
        "\n",
        "learn.fine_tune(\n",
        "    EPOCHS, # Número de épocas para treinar o modelo inteiro (descongelado)\n",
        "    base_lr=BASE_LR_BODY, # Taxa de aprendizado para as camadas congeladas\n",
        "    cbs=callbacks\n",
        ")\n",
        "\n",
        "\n",
        "# =========================\n",
        "# 6) Avaliação e salvamento\n",
        "# =========================\n",
        "print(\"\\nAnalisando resultados...\")\n",
        "interp = ClassificationInterpretation.from_learner(learn)\n",
        "interp.plot_confusion_matrix(figsize=(8,8), dpi=60)\n",
        "interp.plot_top_losses(9, nrows=3)\n",
        "\n",
        "final_model_path = \"/content/modelos/modelo_resnet50_finetuned_fastai.pkl\"\n",
        "learn.export(final_model_path)\n",
        "\n",
        "print(f\"\\n✅ Treinamento com Fine-Tuning concluído.\")\n",
        "print(f\"💾 O melhor modelo durante o treino foi salvo em: {learn.path/learn.model_dir}/best_model_resnet50_finetuned.pth\")\n",
        "print(f\"💾 Modelo final para inferência salvo em: {final_model_path}\")"
      ],
      "metadata": {
        "id": "Qg-hODGnSsXA"
      },
      "id": "Qg-hODGnSsXA",
      "execution_count": null,
      "outputs": []
    },
    {
      "cell_type": "markdown",
      "id": "CG7VJ0wXML_v",
      "metadata": {
        "id": "CG7VJ0wXML_v"
      },
      "source": [
        "# 7. Resultados"
      ]
    },
    {
      "cell_type": "markdown",
      "source": [
        "## 7.1 Imports"
      ],
      "metadata": {
        "id": "ZZkqZgFCT0LC"
      },
      "id": "ZZkqZgFCT0LC"
    },
    {
      "cell_type": "code",
      "source": [
        "from fastai.vision.all import *\n",
        "from PIL import Image\n",
        "import matplotlib.pyplot as plt\n",
        "import pathlib\n",
        "from pathlib import Path\n",
        "import collections"
      ],
      "metadata": {
        "id": "12pD5TTqTz3t"
      },
      "id": "12pD5TTqTz3t",
      "execution_count": null,
      "outputs": []
    },
    {
      "cell_type": "code",
      "source": [
        "\n",
        "# Para evitar um erro comum no Windows\n",
        "# temp = pathlib.PosixPath\n",
        "# pathlib.PosixPath = pathlib.WindowsPath\n",
        "\n",
        "# ===================================================================\n",
        "# 1. CONFIGURE OS CAMINHOS AQUI\n",
        "# ===================================================================\n",
        "\n",
        "# Altere esta linha para o caminho exato onde seu modelo .pkl foi salvo.\n",
        "# Exemplo: \"/home/lab11/papagaio/modelo_resnet50_finetuned_fastai.pkl\"\n",
        "caminho_do_modelo = \"/content/modelos/modelo_resnet50_finetuned_fastai.pkl\"  # <--- MUDE AQUI\n",
        "\n",
        "# Altere esta linha para o caminho da imagem que você quer classificar.\n",
        "# Exemplo: \"imagens/teste/pardal_01.jpg\"\n",
        "caminho_da_imagem = \"/home/lab11/papagaio/papagaio-main/image copy 3.png\"  # <--- MUDE AQUI\n",
        "\n",
        "# ===================================================================\n",
        "# 2. FUNÇÃO PARA CARREGAR O MODELO E PREVER A IMAGEM\n",
        "# ===================================================================\n",
        "\n",
        "def prever_imagem(caminho_modelo, caminho_imagem):\n",
        "    \"\"\"\n",
        "    Carrega um modelo treinado da fastai e faz a previsão em uma única imagem.\n",
        "    \"\"\"\n",
        "    # ---- Carregamento do Modelo ----\n",
        "    try:\n",
        "        print(f\"Carregando modelo de: {caminho_modelo}\")\n",
        "        # load_learner carrega tudo o que é necessário para a inferência\n",
        "        learn = load_learner(caminho_modelo)\n",
        "        print(\"Modelo carregado com sucesso!\")\n",
        "    except FileNotFoundError:\n",
        "        print(f\"ERRO: Arquivo do modelo não encontrado em '{caminho_modelo}'. Verifique o caminho.\")\n",
        "        return\n",
        "    except Exception as e:\n",
        "        print(f\"Ocorreu um erro ao carregar o modelo: {e}\")\n",
        "        return\n",
        "\n",
        "    # ---- Previsão na Imagem ----\n",
        "    try:\n",
        "        print(f\"\\nFazendo previsão na imagem: {caminho_imagem}\")\n",
        "\n",
        "        # O método .predict faz todo o processamento necessário na imagem\n",
        "        classe_predita, _, probabilidades = learn.predict(caminho_imagem)\n",
        "\n",
        "        # Exibe a imagem com o resultado\n",
        "        img = Image.open(caminho_imagem)\n",
        "        plt.imshow(img)\n",
        "        # Pega a probabilidade da classe prevista\n",
        "        prob_max = probabilidades.max()\n",
        "        plt.title(f\"Previsão: {classe_predita}\\nConfiança: {prob_max*100:.2f}%\")\n",
        "        plt.axis('off')\n",
        "        plt.show()\n",
        "\n",
        "        # ---- Mostra o resultado detalhado no terminal ----\n",
        "        print(\"\\n\" + \"=\"*40)\n",
        "        print(\"      RESULTADO DA CLASSIFICAÇÃO\")\n",
        "        print(\"=\"*40)\n",
        "        print(f\"A imagem foi classificada como: '{classe_predita}'\")\n",
        "\n",
        "        # Mostra o top 5 de probabilidades para ter mais detalhes\n",
        "        print(\"\\nTop 5 probabilidades:\")\n",
        "        # Combina os nomes das classes (vocab) com suas probabilidades\n",
        "        prob_por_classe = sorted(zip(learn.dls.vocab, probabilidades), key=lambda x: x[1], reverse=True)\n",
        "        for i, (classe, prob) in enumerate(prob_por_classe[:5]):\n",
        "            print(f\"{i+1}. {classe}: {prob*100:.2f}%\")\n",
        "\n",
        "    except FileNotFoundError:\n",
        "        print(f\"ERRO: Arquivo de imagem não encontrado em '{caminho_imagem}'. Verifique o caminho.\")\n",
        "    except Exception as e:\n",
        "        print(f\"Ocorreu um erro durante a previsão: {e}\")\n",
        "\n",
        "\n",
        "# ===================================================================\n",
        "# 3. EXECUÇÃO PRINCIPAL\n",
        "# ===================================================================\n",
        "if __name__ == '__main__':\n",
        "    prever_imagem(caminho_do_modelo, caminho_da_imagem)"
      ],
      "metadata": {
        "id": "rVB44ouWTkK3"
      },
      "id": "rVB44ouWTkK3",
      "execution_count": null,
      "outputs": []
    },
    {
      "cell_type": "code",
      "source": [
        "\n",
        "\n",
        "# ===================================================================\n",
        "# 1) CAMINHOS\n",
        "# ===================================================================\n",
        "caminho_do_modelo = \"/content/modelos/modelo_resnet50_finetuned_fastai.pkl\"\n",
        "caminho_teste     = \"/content/datasets/test_images\"\n",
        "\n",
        "# (Opcional) classes que você informou; usaremos APENAS para validar nomes/pastas\n",
        "class_names = [\n",
        "    \"amazona_aestiva\",\n",
        "    \"amazona_amazonica\",\n",
        "    \"anodorhynchus_hyacinthinus\",\n",
        "    \"ara_ararauna\",\n",
        "    \"ara_chloropterus\",\n",
        "    \"ara_macao\",\n",
        "    \"brotogeris_chiriri\",\n",
        "    \"diopsittaca_nobilis\",\n",
        "    \"eupsittula_aurea\",\n",
        "    \"forpus_xanthopterygius\",\n",
        "    \"orthopsittaca_manilatus\",\n",
        "    \"primolius_maracana\",\n",
        "    \"psittacara_leucophthalmus\",\n",
        "    \"touit_melanonotus\",\n",
        "]\n",
        "\n",
        "# ===================================================================\n",
        "# 2) FUNÇÃO\n",
        "# ===================================================================\n",
        "def avaliar_modelo_no_teste(caminho_modelo, caminho_teste, class_names=None):\n",
        "    # 1) Carrega o modelo\n",
        "    print(f\"Carregando modelo de: {caminho_modelo}\")\n",
        "    learn = load_learner(caminho_modelo)\n",
        "    print(\"✅ Modelo carregado com sucesso!\\n\")\n",
        "\n",
        "    if not hasattr(learn.dls, \"vocab\") or learn.dls.vocab is None:\n",
        "        raise RuntimeError(\"Este Learner não tem 'vocab' — o modelo provavelmente não é de classificação.\")\n",
        "\n",
        "    vocab = list(map(str, learn.dls.vocab))\n",
        "    print(\"🔠 Vocab do modelo:\", vocab)\n",
        "\n",
        "    # 2) Valida classes (opcional)\n",
        "    if class_names is not None:\n",
        "        print(\"🔤 Labels fornecidas:\", class_names)\n",
        "        if set(class_names) != set(vocab):\n",
        "            faltando = [c for c in vocab if c not in class_names]\n",
        "            extras   = [c for c in class_names if c not in vocab]\n",
        "            raise RuntimeError(\n",
        "                \"As classes do modelo e as fornecidas diferem.\\n\"\n",
        "                f\"Faltando no seu 'class_names': {faltando}\\n\"\n",
        "                f\"Extras no seu 'class_names': {extras}\"\n",
        "            )\n",
        "\n",
        "    # 3) Coleta arquivos do teste e rótulos a partir da subpasta\n",
        "    base = Path(caminho_teste)\n",
        "    if not base.exists():\n",
        "        raise FileNotFoundError(f\"Pasta de teste não encontrada: {base}\")\n",
        "\n",
        "    files = get_image_files(base)\n",
        "    if len(files) == 0:\n",
        "        raise RuntimeError(\"Nenhuma imagem encontrada no conjunto de teste.\")\n",
        "\n",
        "    # Filtra só arquivos cujas pastas são classes válidas\n",
        "    valid_classes = set(vocab)\n",
        "    files = [f for f in files if f.parent.name in valid_classes]\n",
        "\n",
        "    if len(files) == 0:\n",
        "        raise RuntimeError(\"As imagens não estão em subpastas com nomes de classes do modelo.\")\n",
        "\n",
        "    # Contagem por classe (diagnóstico)\n",
        "    contagem = collections.Counter(f.parent.name for f in files)\n",
        "    print(\"📦 Imagens por classe no teste:\", dict(contagem))\n",
        "    print(f\"📦 Total de imagens no teste: {len(files)}\")\n",
        "\n",
        "    # 4) Monta rótulos verdadeiros (targs) como índices do vocab\n",
        "    cls2idx = {c:i for i,c in enumerate(vocab)}\n",
        "    targs_idx = tensor([cls2idx[f.parent.name] for f in files]).long()\n",
        "\n",
        "    # 5) Cria um test_dl **sem** rótulos (apenas itens). Isso evita o erro de tuplas.\n",
        "    test_dl = learn.dls.test_dl(files)  # sem with_labels\n",
        "\n",
        "    # 6) Predições e acurácia manual\n",
        "    print(\"Calculando predições...\")\n",
        "    preds = learn.get_preds(dl=test_dl)[0]  # só preds; targs vazio pq não há labels no dl\n",
        "    pred_idx = preds.argmax(dim=1)\n",
        "\n",
        "    acc = (pred_idx == targs_idx).float().mean()\n",
        "    print(f\"\\n📊 Acurácia no conjunto de teste: {acc.item()*100:.2f}%\")\n",
        "\n",
        "    # (Opcional) mostra matriz de confusão rapidamente\n",
        "    try:\n",
        "        from fastai.metrics import ConfusionMatrix\n",
        "        cm = ConfusionMatrix()\n",
        "        cm.add(pred_idx, targs_idx)\n",
        "        print(\"\\nMatriz de confusão (primeiras linhas):\")\n",
        "        print(cm[:min(10, len(vocab)), :min(10, len(vocab))])  # evita imprimir gigante\n",
        "    except Exception:\n",
        "        pass\n",
        "\n",
        "    return acc.item()\n",
        "\n",
        "# ===================================================================\n",
        "# 3) EXECUÇÃO\n",
        "# ===================================================================\n",
        "if __name__ == '__main__':\n",
        "    avaliar_modelo_no_teste(caminho_do_modelo, caminho_teste, class_names=class_names)"
      ],
      "metadata": {
        "id": "0LpNqrQZTWCg"
      },
      "id": "0LpNqrQZTWCg",
      "execution_count": null,
      "outputs": []
    },
    {
      "cell_type": "markdown",
      "id": "Zp_0AS8TMJEX",
      "metadata": {
        "id": "Zp_0AS8TMJEX"
      },
      "source": [
        "# 8. Conclusão"
      ]
    },
    {
      "cell_type": "markdown",
      "source": [],
      "metadata": {
        "id": "vydmq1hVFvg_"
      },
      "id": "vydmq1hVFvg_"
    },
    {
      "cell_type": "markdown",
      "id": "g5ik5aS0MWEC",
      "metadata": {
        "id": "g5ik5aS0MWEC"
      },
      "source": [
        "# 9. Referências"
      ]
    },
    {
      "cell_type": "markdown",
      "source": [
        "TANG, Jiayi. Comparative analysis of CNN architectures for bird species classification. ITM Web of Conferences, [S. l.], v. 78, p. 02019, 2025. DOI: 10.1051/itmconf/20257802019."
      ],
      "metadata": {
        "id": "4lu43YmsGAn5"
      },
      "id": "4lu43YmsGAn5"
    },
    {
      "cell_type": "code",
      "source": [],
      "metadata": {
        "id": "2EQxS3qmGMBQ"
      },
      "id": "2EQxS3qmGMBQ",
      "execution_count": null,
      "outputs": []
    }
  ],
  "metadata": {
    "colab": {
      "provenance": []
    },
    "kernelspec": {
      "display_name": "Python 3",
      "language": "python",
      "name": "python3"
    },
    "language_info": {
      "name": "python",
      "version": "3.x"
    }
  },
  "nbformat": 4,
  "nbformat_minor": 5
}